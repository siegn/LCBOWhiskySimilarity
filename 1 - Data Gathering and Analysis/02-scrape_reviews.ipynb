{
 "cells": [
  {
   "cell_type": "markdown",
   "metadata": {
    "toc": true
   },
   "source": [
    "<h1>Table of Contents<span class=\"tocSkip\"></span></h1>\n",
    "<div class=\"toc\"><ul class=\"toc-item\"><li><span><a href=\"#Load-Libraries-and-Data\" data-toc-modified-id=\"Load-Libraries-and-Data-1\"><span class=\"toc-item-num\">1&nbsp;&nbsp;</span>Load Libraries and Data</a></span></li><li><span><a href=\"#Extract-Review-Text\" data-toc-modified-id=\"Extract-Review-Text-2\"><span class=\"toc-item-num\">2&nbsp;&nbsp;</span>Extract Review Text</a></span></li><li><span><a href=\"#Save-to-File\" data-toc-modified-id=\"Save-to-File-3\"><span class=\"toc-item-num\">3&nbsp;&nbsp;</span>Save to File</a></span></li></ul></div>"
   ]
  },
  {
   "cell_type": "markdown",
   "metadata": {},
   "source": [
    "# Notebook Purpose\n",
    "This notebook uses the reddit API to scrape review text and append them to the reddit review file."
   ]
  },
  {
   "cell_type": "markdown",
   "metadata": {},
   "source": [
    "## Load Libraries and Data"
   ]
  },
  {
   "cell_type": "code",
   "execution_count": 2,
   "metadata": {
    "ExecuteTime": {
     "end_time": "2019-07-17T00:50:25.332766Z",
     "start_time": "2019-07-17T00:50:24.309253Z"
    }
   },
   "outputs": [],
   "source": [
    "import praw\n",
    "import pandas as pd\n",
    "import re\n",
    "\n",
    "import requests\n",
    "import time\n",
    "import sys\n",
    "import pdb"
   ]
  },
  {
   "cell_type": "code",
   "execution_count": 4,
   "metadata": {
    "ExecuteTime": {
     "end_time": "2019-07-17T00:50:35.965097Z",
     "start_time": "2019-07-17T00:50:35.902794Z"
    }
   },
   "outputs": [
    {
     "name": "stderr",
     "output_type": "stream",
     "text": [
      "/opt/tljh/user/lib/python3.6/site-packages/pyarrow/pandas_compat.py:708: FutureWarning: .labels was deprecated in version 0.24.0. Use .codes instead.\n",
      "  labels = getattr(columns, 'labels', None) or [\n",
      "/opt/tljh/user/lib/python3.6/site-packages/pyarrow/pandas_compat.py:735: FutureWarning: the 'labels' keyword is deprecated, use 'codes' instead\n",
      "  return pd.MultiIndex(levels=new_levels, labels=labels, names=columns.names)\n",
      "/opt/tljh/user/lib/python3.6/site-packages/pyarrow/pandas_compat.py:752: FutureWarning: .labels was deprecated in version 0.24.0. Use .codes instead.\n",
      "  labels, = index.labels\n"
     ]
    }
   ],
   "source": [
    "rdb = pd.read_parquet('data/redditwhiskeydatabase.parquet')"
   ]
  },
  {
   "cell_type": "markdown",
   "metadata": {},
   "source": [
    "Client secrets for reddit are loaded here. You'll need to provide your own secrets.py which provides the following fields. You'll need to sign up for a reddit api to get this.:\n",
    "\n",
    "- clientid\n",
    "- clientsecret\n",
    "- clientusername\n",
    "- clientpassword"
   ]
  },
  {
   "cell_type": "code",
   "execution_count": 28,
   "metadata": {
    "ExecuteTime": {
     "end_time": "2019-07-10T22:30:37.277999Z",
     "start_time": "2019-07-10T22:30:37.272112Z"
    }
   },
   "outputs": [],
   "source": [
    "import secrets"
   ]
  },
  {
   "cell_type": "markdown",
   "metadata": {},
   "source": [
    "## Extract Review Text"
   ]
  },
  {
   "cell_type": "code",
   "execution_count": 44,
   "metadata": {
    "ExecuteTime": {
     "end_time": "2019-07-10T22:54:20.974487Z",
     "start_time": "2019-07-10T22:54:20.955124Z"
    }
   },
   "outputs": [],
   "source": [
    "def extract_reviews(dataframe,re_client_id,re_client_secret,\\\n",
    "                    re_username,re_pw):\n",
    "        \"\"\"Takes Reddit review submission ids, request \\\n",
    "        submissions from PRAW, search for the right body text,\\\n",
    "        and saves it to the dataframe\"\"\" \n",
    "        #timer/counter\n",
    "        start_time = int(time.time())\n",
    "        count = 0\n",
    "        total = dataframe.shape[0]\n",
    "        \n",
    "        #get the Review URL addresses as a series\n",
    "        rev_addr = dataframe['sub_id']\n",
    "\n",
    "        #empty list of reviews\n",
    "        reviews = []\n",
    "        \n",
    "        #initiate PRAW\n",
    "        reddit = praw.Reddit(client_id= re_client_id,\\\n",
    "                     client_secret = re_client_secret,\\\n",
    "                     username = re_username, \\\n",
    "                             password = re_pw,user_agent= 'v1' )\n",
    "        \n",
    "        \n",
    "        \n",
    "        #iterate through the submission ids to extract review texts\n",
    "        for s_id in rev_addr:\n",
    "            review = ''\n",
    "            try:\n",
    "                sub = reddit.submission(id = s_id)\n",
    "                s_author = sub.author.name\n",
    "            except:\n",
    "                reviews.append('error')\n",
    "                continue\n",
    "            #sometimes the reviews are in the \n",
    "            #submission text instead of comments\n",
    "            #add any text in this field if not empty\n",
    "            sub_text = sub.selftext\n",
    "            if len(sub_text) > 0:\n",
    "                review = review + sub_text + ' \\n'\n",
    "\n",
    "            # parse through the submission's comments \n",
    "            # and extract all of authors' comments\n",
    "            for comment in sub.comments:\n",
    "                try:\n",
    "                    if comment.author.name == s_author:\n",
    "                        review = review + comment.body + '\\n'\n",
    "                except:\n",
    "                    continue\n",
    "            \n",
    "            reviews.append(review)\n",
    "            \n",
    "            #counter/timer\n",
    "            end_time = int(time.time())\n",
    "            min_spent = round(((end_time-start_time)/60),2)\n",
    "            remaining_time = round((min_spent/max(count,1))*max((total-count),1),2)\n",
    "            \n",
    "            \n",
    "            count_str = 'extracted ' + str(count) + '/' + str(total) + \\\n",
    "                    ' reviews in total ' + str(min_spent) + ' minutes' + \\\n",
    "                    ' estimated time remaining is ' + str(remaining_time) + ' minutes'\n",
    "            sys.stdout.write(\"\\r{}\".format(count_str))\n",
    "            count += 1\n",
    "            \n",
    "        dataframe['review'] = reviews\n",
    "        #save to csv, also return the pandas dataframe\n",
    "        dataframe.to_csv(\"db_reviews.csv\")\n",
    "        return dataframe\n",
    "        "
   ]
  },
  {
   "cell_type": "code",
   "execution_count": 46,
   "metadata": {
    "ExecuteTime": {
     "end_time": "2019-07-11T08:00:56.875837Z",
     "start_time": "2019-07-10T22:54:35.605361Z"
    }
   },
   "outputs": [
    {
     "name": "stdout",
     "output_type": "stream",
     "text": [
      "extracted 14049/31282 reviews in total 252.53 minutes estimated time remaining is 309.76 minutes"
     ]
    },
    {
     "name": "stderr",
     "output_type": "stream",
     "text": [
      "IOPub message rate exceeded.\n",
      "The notebook server will temporarily stop sending output\n",
      "to the client in order to avoid crashing it.\n",
      "To change this limit, set the config variable\n",
      "`--NotebookApp.iopub_msg_rate_limit`.\n",
      "\n",
      "Current values:\n",
      "NotebookApp.iopub_msg_rate_limit=1000.0 (msgs/sec)\n",
      "NotebookApp.rate_limit_window=3.0 (secs)\n",
      "\n"
     ]
    },
    {
     "name": "stdout",
     "output_type": "stream",
     "text": [
      "extracted 18304/31282 reviews in total 330.1 minutes estimated time remaining is 234.05 minutess"
     ]
    },
    {
     "name": "stderr",
     "output_type": "stream",
     "text": [
      "IOPub message rate exceeded.\n",
      "The notebook server will temporarily stop sending output\n",
      "to the client in order to avoid crashing it.\n",
      "To change this limit, set the config variable\n",
      "`--NotebookApp.iopub_msg_rate_limit`.\n",
      "\n",
      "Current values:\n",
      "NotebookApp.iopub_msg_rate_limit=1000.0 (msgs/sec)\n",
      "NotebookApp.rate_limit_window=3.0 (secs)\n",
      "\n"
     ]
    },
    {
     "name": "stdout",
     "output_type": "stream",
     "text": [
      "extracted 22988/31282 reviews in total 414.83 minutes estimated time remaining is 149.67 minutes"
     ]
    },
    {
     "name": "stderr",
     "output_type": "stream",
     "text": [
      "IOPub message rate exceeded.\n",
      "The notebook server will temporarily stop sending output\n",
      "to the client in order to avoid crashing it.\n",
      "To change this limit, set the config variable\n",
      "`--NotebookApp.iopub_msg_rate_limit`.\n",
      "\n",
      "Current values:\n",
      "NotebookApp.iopub_msg_rate_limit=1000.0 (msgs/sec)\n",
      "NotebookApp.rate_limit_window=3.0 (secs)\n",
      "\n"
     ]
    },
    {
     "name": "stdout",
     "output_type": "stream",
     "text": [
      "extracted 27449/31282 reviews in total 509.53 minutes estimated time remaining is 71.15 minutess"
     ]
    },
    {
     "name": "stderr",
     "output_type": "stream",
     "text": [
      "IOPub message rate exceeded.\n",
      "The notebook server will temporarily stop sending output\n",
      "to the client in order to avoid crashing it.\n",
      "To change this limit, set the config variable\n",
      "`--NotebookApp.iopub_msg_rate_limit`.\n",
      "\n",
      "Current values:\n",
      "NotebookApp.iopub_msg_rate_limit=1000.0 (msgs/sec)\n",
      "NotebookApp.rate_limit_window=3.0 (secs)\n",
      "\n"
     ]
    },
    {
     "name": "stdout",
     "output_type": "stream",
     "text": [
      "extracted 29572/31282 reviews in total 546.32 minutes estimated time remaining is 31.59 minutes"
     ]
    }
   ],
   "source": [
    "reviews = extract_reviews(rdb,clientid,clientsecret,\\\n",
    "                    clientusername,clientpassword)"
   ]
  },
  {
   "cell_type": "code",
   "execution_count": 47,
   "metadata": {
    "ExecuteTime": {
     "end_time": "2019-07-11T12:02:32.639307Z",
     "start_time": "2019-07-11T12:02:32.633871Z"
    },
    "scrolled": true
   },
   "outputs": [
    {
     "data": {
      "text/plain": [
       "(31282, 10)"
      ]
     },
     "execution_count": 47,
     "metadata": {},
     "output_type": "execute_result"
    }
   ],
   "source": [
    "reviews.shape"
   ]
  },
  {
   "cell_type": "markdown",
   "metadata": {},
   "source": [
    "## Save to File"
   ]
  },
  {
   "cell_type": "code",
   "execution_count": 50,
   "metadata": {
    "ExecuteTime": {
     "end_time": "2019-07-11T12:03:14.659289Z",
     "start_time": "2019-07-11T12:03:13.749781Z"
    },
    "scrolled": true
   },
   "outputs": [
    {
     "name": "stderr",
     "output_type": "stream",
     "text": [
      "/opt/tljh/user/lib/python3.6/site-packages/pyarrow/pandas_compat.py:114: FutureWarning: A future version of pandas will default to `skipna=True`. To silence this warning, pass `skipna=True|False` explicitly.\n",
      "  result = infer_dtype(pandas_collection)\n"
     ]
    }
   ],
   "source": [
    "reviews.to_parquet('db_reviews.parquet')"
   ]
  },
  {
   "cell_type": "code",
   "execution_count": 51,
   "metadata": {
    "ExecuteTime": {
     "end_time": "2019-07-11T12:09:27.481383Z",
     "start_time": "2019-07-11T12:09:27.454080Z"
    }
   },
   "outputs": [
    {
     "data": {
      "text/html": [
       "<div>\n",
       "<style scoped>\n",
       "    .dataframe tbody tr th:only-of-type {\n",
       "        vertical-align: middle;\n",
       "    }\n",
       "\n",
       "    .dataframe tbody tr th {\n",
       "        vertical-align: top;\n",
       "    }\n",
       "\n",
       "    .dataframe thead th {\n",
       "        text-align: right;\n",
       "    }\n",
       "</style>\n",
       "<table border=\"1\" class=\"dataframe\">\n",
       "  <thead>\n",
       "    <tr style=\"text-align: right;\">\n",
       "      <th></th>\n",
       "      <th>timestamp</th>\n",
       "      <th>whisky</th>\n",
       "      <th>username</th>\n",
       "      <th>reviewLink</th>\n",
       "      <th>rating</th>\n",
       "      <th>style</th>\n",
       "      <th>pricePaid</th>\n",
       "      <th>date</th>\n",
       "      <th>sub_id</th>\n",
       "      <th>review</th>\n",
       "    </tr>\n",
       "    <tr>\n",
       "      <th>reviewID</th>\n",
       "      <th></th>\n",
       "      <th></th>\n",
       "      <th></th>\n",
       "      <th></th>\n",
       "      <th></th>\n",
       "      <th></th>\n",
       "      <th></th>\n",
       "      <th></th>\n",
       "      <th></th>\n",
       "      <th></th>\n",
       "    </tr>\n",
       "  </thead>\n",
       "  <tbody>\n",
       "    <tr>\n",
       "      <th>31887</th>\n",
       "      <td>2019-07-09 01:02:43.534</td>\n",
       "      <td>Compass Box Great King St. Experimental Batch ...</td>\n",
       "      <td>implar</td>\n",
       "      <td>https://www.reddit.com/r/Scotch/comments/cawtf...</td>\n",
       "      <td>86</td>\n",
       "      <td>Blend</td>\n",
       "      <td>nan</td>\n",
       "      <td>2019-07-09</td>\n",
       "      <td>cawtft</td>\n",
       "      <td>I'm quite late with this review, as it's not t...</td>\n",
       "    </tr>\n",
       "    <tr>\n",
       "      <th>31888</th>\n",
       "      <td>2019-07-09 05:28:10.934</td>\n",
       "      <td>Heaven Hill 9 North Star</td>\n",
       "      <td>TOModera</td>\n",
       "      <td>https://old.reddit.com/r/bourbon/comments/caz2...</td>\n",
       "      <td>84</td>\n",
       "      <td>Kentucky</td>\n",
       "      <td>nan</td>\n",
       "      <td>2019-07-09</td>\n",
       "      <td>caz2cx</td>\n",
       "      <td>Every so often, I’m reminded of my most popula...</td>\n",
       "    </tr>\n",
       "    <tr>\n",
       "      <th>31889</th>\n",
       "      <td>2019-07-09 08:51:55.307</td>\n",
       "      <td>Ardbeg 17 Elements of Islay - Ar10</td>\n",
       "      <td>devoz</td>\n",
       "      <td>https://www.reddit.com/r/Scotch/comments/cb151...</td>\n",
       "      <td>89</td>\n",
       "      <td>Islay</td>\n",
       "      <td>nan</td>\n",
       "      <td>2019-07-09</td>\n",
       "      <td>cb1518</td>\n",
       "      <td>Review 547: Ardbeg 17 (Elements of Islay - AR1...</td>\n",
       "    </tr>\n",
       "    <tr>\n",
       "      <th>31890</th>\n",
       "      <td>2019-07-09 17:05:19.335</td>\n",
       "      <td>Highland Park 16 SMWS 4.250</td>\n",
       "      <td>HawkI84</td>\n",
       "      <td>https://www.reddit.com/r/Scotch/comments/cb7mq...</td>\n",
       "      <td>85</td>\n",
       "      <td>Scotch</td>\n",
       "      <td>nan</td>\n",
       "      <td>2019-07-09</td>\n",
       "      <td>cb7mql</td>\n",
       "      <td>u/xreekinghavocx\\nThis is a 16 year old Highla...</td>\n",
       "    </tr>\n",
       "    <tr>\n",
       "      <th>31891</th>\n",
       "      <td>2019-07-09 17:12:56.609</td>\n",
       "      <td>Tomintoul 14</td>\n",
       "      <td>razzafrachen</td>\n",
       "      <td>https://www.reddit.com/r/Scotch/comments/cb7oa...</td>\n",
       "      <td>86</td>\n",
       "      <td>Speyside</td>\n",
       "      <td>40</td>\n",
       "      <td>2019-07-09</td>\n",
       "      <td>cb7oab</td>\n",
       "      <td>*Ah yes, Tomintoul 14. A ubiquitous bottle in ...</td>\n",
       "    </tr>\n",
       "  </tbody>\n",
       "</table>\n",
       "</div>"
      ],
      "text/plain": [
       "                       timestamp  \\\n",
       "reviewID                           \n",
       "31887    2019-07-09 01:02:43.534   \n",
       "31888    2019-07-09 05:28:10.934   \n",
       "31889    2019-07-09 08:51:55.307   \n",
       "31890    2019-07-09 17:05:19.335   \n",
       "31891    2019-07-09 17:12:56.609   \n",
       "\n",
       "                                                     whisky      username  \\\n",
       "reviewID                                                                    \n",
       "31887     Compass Box Great King St. Experimental Batch ...        implar   \n",
       "31888                              Heaven Hill 9 North Star      TOModera   \n",
       "31889                    Ardbeg 17 Elements of Islay - Ar10         devoz   \n",
       "31890                           Highland Park 16 SMWS 4.250       HawkI84   \n",
       "31891                                          Tomintoul 14  razzafrachen   \n",
       "\n",
       "                                                 reviewLink  rating     style  \\\n",
       "reviewID                                                                        \n",
       "31887     https://www.reddit.com/r/Scotch/comments/cawtf...      86     Blend   \n",
       "31888     https://old.reddit.com/r/bourbon/comments/caz2...      84  Kentucky   \n",
       "31889     https://www.reddit.com/r/Scotch/comments/cb151...      89     Islay   \n",
       "31890     https://www.reddit.com/r/Scotch/comments/cb7mq...      85    Scotch   \n",
       "31891     https://www.reddit.com/r/Scotch/comments/cb7oa...      86  Speyside   \n",
       "\n",
       "         pricePaid       date  sub_id  \\\n",
       "reviewID                                \n",
       "31887          nan 2019-07-09  cawtft   \n",
       "31888          nan 2019-07-09  caz2cx   \n",
       "31889          nan 2019-07-09  cb1518   \n",
       "31890          nan 2019-07-09  cb7mql   \n",
       "31891           40 2019-07-09  cb7oab   \n",
       "\n",
       "                                                     review  \n",
       "reviewID                                                     \n",
       "31887     I'm quite late with this review, as it's not t...  \n",
       "31888     Every so often, I’m reminded of my most popula...  \n",
       "31889     Review 547: Ardbeg 17 (Elements of Islay - AR1...  \n",
       "31890     u/xreekinghavocx\\nThis is a 16 year old Highla...  \n",
       "31891     *Ah yes, Tomintoul 14. A ubiquitous bottle in ...  "
      ]
     },
     "execution_count": 51,
     "metadata": {},
     "output_type": "execute_result"
    }
   ],
   "source": [
    "reviews.tail()"
   ]
  }
 ],
 "metadata": {
  "kernelspec": {
   "display_name": "Python 3",
   "language": "python",
   "name": "python3"
  },
  "language_info": {
   "codemirror_mode": {
    "name": "ipython",
    "version": 3
   },
   "file_extension": ".py",
   "mimetype": "text/x-python",
   "name": "python",
   "nbconvert_exporter": "python",
   "pygments_lexer": "ipython3",
   "version": "3.6.8"
  },
  "toc": {
   "base_numbering": 1,
   "nav_menu": {},
   "number_sections": true,
   "sideBar": true,
   "skip_h1_title": true,
   "title_cell": "Table of Contents",
   "title_sidebar": "Contents",
   "toc_cell": true,
   "toc_position": {
    "height": "calc(100% - 180px)",
    "left": "10px",
    "top": "150px",
    "width": "384px"
   },
   "toc_section_display": true,
   "toc_window_display": true
  }
 },
 "nbformat": 4,
 "nbformat_minor": 2
}
