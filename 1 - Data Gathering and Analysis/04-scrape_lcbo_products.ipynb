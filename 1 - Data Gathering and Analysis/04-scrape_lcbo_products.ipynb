{
 "cells": [
  {
   "cell_type": "markdown",
   "metadata": {
    "toc": true
   },
   "source": [
    "<h1>Table of Contents<span class=\"tocSkip\"></span></h1>\n",
    "<div class=\"toc\"><ul class=\"toc-item\"><li><span><a href=\"#Load-Libraries-and-Data\" data-toc-modified-id=\"Load-Libraries-and-Data-1\"><span class=\"toc-item-num\">1&nbsp;&nbsp;</span>Load Libraries and Data</a></span></li><li><span><a href=\"#Scrape-Products\" data-toc-modified-id=\"Scrape-Products-2\"><span class=\"toc-item-num\">2&nbsp;&nbsp;</span>Scrape Products</a></span></li><li><span><a href=\"#Consolidate-Files\" data-toc-modified-id=\"Consolidate-Files-3\"><span class=\"toc-item-num\">3&nbsp;&nbsp;</span>Consolidate Files</a></span></li><li><span><a href=\"#Clean-Data\" data-toc-modified-id=\"Clean-Data-4\"><span class=\"toc-item-num\">4&nbsp;&nbsp;</span>Clean Data</a></span></li><li><span><a href=\"#Save-to-File\" data-toc-modified-id=\"Save-to-File-5\"><span class=\"toc-item-num\">5&nbsp;&nbsp;</span>Save to File</a></span></li></ul></div>"
   ]
  },
  {
   "cell_type": "markdown",
   "metadata": {
    "ExecuteTime": {
     "end_time": "2019-07-28T17:14:41.642347Z",
     "start_time": "2019-07-28T17:14:41.638957Z"
    }
   },
   "source": [
    "# Notebook Purpose\n",
    "This notebook scrapes all product info from the LCBO api.\n",
    "Since the api needs product IDs, this file just tries every ID between 0 and 120 million.\n",
    "As such, with the rate limiting as well, this will take quite a while to run."
   ]
  },
  {
   "cell_type": "markdown",
   "metadata": {},
   "source": [
    "## Load Libraries and Data"
   ]
  },
  {
   "cell_type": "code",
   "execution_count": 62,
   "metadata": {
    "ExecuteTime": {
     "end_time": "2019-07-17T02:43:31.891844Z",
     "start_time": "2019-07-17T02:43:31.886523Z"
    }
   },
   "outputs": [],
   "source": [
    "import pandas as pd\n",
    "import urllib.parse\n",
    "import urllib.request\n",
    "import xml.etree.ElementTree as ET\n",
    "import io\n",
    "from bs4 import BeautifulSoup\n",
    "import time\n",
    "import sys\n",
    "import multiprocessing as mp\n",
    "import numpy as np"
   ]
  },
  {
   "cell_type": "markdown",
   "metadata": {},
   "source": [
    "## Scrape Products"
   ]
  },
  {
   "cell_type": "code",
   "execution_count": null,
   "metadata": {
    "ExecuteTime": {
     "start_time": "2019-07-16T19:35:40.808Z"
    }
   },
   "outputs": [],
   "source": [
    "def scrape_all_info(idlist):\n",
    "    fieldlist = ['language', 'itemnumber', 'itemname', 'price', 'productsize', 'isdiscontinued', 'islimited',\n",
    "                 'am', 'ambonusmiles', 'amexpiration', 'kosher', \n",
    "                 'lto', 'ltoexpiration', 'ltoregularprice', 'ltosavings', \n",
    "                 'releasedate', 'upcnumber', 'sccnumber', 'vao', 'vaodescription', 'vaoexpiration', \n",
    "                 'vqa', 'productquantity', 'producer', 'producingsubregion', 'producingregion', 'producingcountry', \n",
    "                 'alcoholpercentage', 'sugarcontent', 'tastingnotes', 'pairings', \n",
    "                 'itemdescription', 'liquortype', 'categoryname', 'stocktype', 'subcategoryname',\n",
    "                 'sellingpackage', 'sweetnessdescriptor', 'winestyle', 'winevarietal', \n",
    "                 'stylebody', 'stylebody_fr', 'styleflavour', 'styleflavour_fr']\n",
    "\n",
    "    productinfo = pd.DataFrame(columns=fieldlist)\n",
    "    \n",
    "    #timer/counter\n",
    "    start_time = int(time.time())\n",
    "    count = 0\n",
    "    total = len(idlist)\n",
    "    \n",
    "    pool = mp.Pool(mp.cpu_count())\n",
    "    for id in idlist:\n",
    "        pool.apply_async(parse_item_xml, args=(str(id),fieldlist), callback =collect_result)\n",
    "\n",
    "    pool.close()\n",
    "    pool.join()\n",
    "\n",
    "    return results"
   ]
  },
  {
   "cell_type": "code",
   "execution_count": null,
   "metadata": {
    "ExecuteTime": {
     "start_time": "2019-07-16T19:35:40.811Z"
    }
   },
   "outputs": [],
   "source": [
    "def collect_result(result):\n",
    "    global results\n",
    "    results = results.append(result,ignore_index = True)"
   ]
  },
  {
   "cell_type": "code",
   "execution_count": null,
   "metadata": {
    "ExecuteTime": {
     "start_time": "2019-07-16T19:35:40.814Z"
    }
   },
   "outputs": [],
   "source": [
    "def parse_item_xml(id, fieldlist):\n",
    "    xmlstring = pullXML(id)\n",
    "    soup = BeautifulSoup(xmlstring)\n",
    "    product = soup.find('products')\n",
    "    \n",
    "    newitem = {}\n",
    "    for field in fieldlist:\n",
    "        value = product.find(field)\n",
    "        if value is not None:\n",
    "            newitem[field] = value.text\n",
    "\n",
    "    return newitem"
   ]
  },
  {
   "cell_type": "code",
   "execution_count": null,
   "metadata": {
    "ExecuteTime": {
     "start_time": "2019-07-16T19:35:40.816Z"
    }
   },
   "outputs": [],
   "source": [
    "def pullXML(ProductID):\n",
    "    url = 'http://www.foodanddrink.ca/lcbo-webapp/productdetail.do?itemNumber=' + ProductID\n",
    "\n",
    "    user_agent = 'Mozilla/5.0 (Windows NT 6.1; Win64; x64)'\n",
    "    values = {'language' : 'en' }\n",
    "    headers = { 'User-Agent' : user_agent }\n",
    "    data = urllib.parse.urlencode(values)\n",
    "    data = data.encode('ascii')\n",
    "    req = urllib.request.Request(url, data, headers)\n",
    "\n",
    "    try:\n",
    "        with urllib.request.urlopen(req) as response:\n",
    "           content = response.read()\n",
    "\n",
    "        return content\n",
    "    except :\n",
    "        raise response\n",
    "        "
   ]
  },
  {
   "cell_type": "markdown",
   "metadata": {},
   "source": [
    "The cell below will pull for all item ranges, using a multiprocess in order to execute faster.\n",
    "\n",
    "This will take quite a while. It took about 3 days for me."
   ]
  },
  {
   "cell_type": "code",
   "execution_count": 15,
   "metadata": {
    "ExecuteTime": {
     "end_time": "2019-07-17T01:58:18.598116Z",
     "start_time": "2019-07-17T01:53:20.632802Z"
    }
   },
   "outputs": [
    {
     "name": "stdout",
     "output_type": "stream",
     "text": [
      "--\n",
      "1090001 to 1100000\n"
     ]
    }
   ],
   "source": [
    "fieldlist = ['language', 'itemnumber', 'itemname', 'price', 'productsize', 'isdiscontinued', 'islimited',\n",
    "                 'am', 'ambonusmiles', 'amexpiration', 'kosher', \n",
    "                 'lto', 'ltoexpiration', 'ltoregularprice', 'ltosavings', \n",
    "                 'releasedate', 'upcnumber', 'sccnumber', 'vao', 'vaodescription', 'vaoexpiration', \n",
    "                 'vqa', 'productquantity', 'producer', 'producingsubregion', 'producingregion', 'producingcountry', \n",
    "                 'alcoholpercentage', 'sugarcontent', 'tastingnotes', 'pairings', \n",
    "                 'itemdescription', 'liquortype', 'categoryname', 'stocktype', 'subcategoryname',\n",
    "                 'sellingpackage', 'sweetnessdescriptor', 'winestyle', 'winevarietal', \n",
    "                 'stylebody', 'stylebody_fr', 'styleflavour', 'styleflavour_fr']\n",
    "\n",
    "results = pd.DataFrame(columns=fieldlist)\n",
    "\n",
    "for i in range(1,111):\n",
    "    maxrange = i * 10000\n",
    "    minrange = (i-1) * 10000 + 1\n",
    "    print('--')\n",
    "    print(str(minrange) + ' to ' + str(maxrange))\n",
    "    product_info_current = scrape_all_info2(range(minrange,maxrange)).dropna()\n",
    "    product_info_current.to_parquet('data/product_info'+str(maxrange)+'.parquet')\n",
    "    "
   ]
  },
  {
   "cell_type": "markdown",
   "metadata": {},
   "source": [
    "## Consolidate Files"
   ]
  },
  {
   "cell_type": "markdown",
   "metadata": {},
   "source": [
    "Since the above portion saves each 10,000 items to a separate file in case of interruption, we need to consolidate all the files we've scraped:"
   ]
  },
  {
   "cell_type": "code",
   "execution_count": 99,
   "metadata": {
    "ExecuteTime": {
     "end_time": "2019-07-17T03:45:32.591546Z",
     "start_time": "2019-07-17T03:45:29.738254Z"
    }
   },
   "outputs": [],
   "source": [
    "from pathlib import Path\n",
    "import pandas as pd\n",
    "\n",
    "data_dir = Path('data/')\n",
    "full_df = pd.concat(\n",
    "    pd.read_parquet(parquet_file)\n",
    "    for parquet_file in data_dir.glob('product_info*.parquet')\n",
    ")"
   ]
  },
  {
   "cell_type": "code",
   "execution_count": 100,
   "metadata": {
    "ExecuteTime": {
     "end_time": "2019-07-17T03:45:36.232095Z",
     "start_time": "2019-07-17T03:45:34.991591Z"
    }
   },
   "outputs": [],
   "source": [
    "full_df = full_df.dropna()"
   ]
  },
  {
   "cell_type": "markdown",
   "metadata": {},
   "source": [
    "## Clean Data"
   ]
  },
  {
   "cell_type": "markdown",
   "metadata": {},
   "source": [
    "Fix datatypes:"
   ]
  },
  {
   "cell_type": "code",
   "execution_count": 101,
   "metadata": {
    "ExecuteTime": {
     "end_time": "2019-07-17T03:45:37.755709Z",
     "start_time": "2019-07-17T03:45:37.744670Z"
    },
    "scrolled": true
   },
   "outputs": [
    {
     "data": {
      "text/plain": [
       "language               object\n",
       "itemnumber             object\n",
       "itemname               object\n",
       "price                  object\n",
       "productsize            object\n",
       "isdiscontinued         object\n",
       "islimited              object\n",
       "am                     object\n",
       "ambonusmiles           object\n",
       "amexpiration           object\n",
       "kosher                 object\n",
       "lto                    object\n",
       "ltoexpiration          object\n",
       "ltoregularprice        object\n",
       "ltosavings             object\n",
       "releasedate            object\n",
       "upcnumber              object\n",
       "sccnumber              object\n",
       "vao                    object\n",
       "vaodescription         object\n",
       "vaoexpiration          object\n",
       "vqa                    object\n",
       "productquantity        object\n",
       "producer               object\n",
       "producingsubregion     object\n",
       "producingregion        object\n",
       "producingcountry       object\n",
       "alcoholpercentage      object\n",
       "sugarcontent           object\n",
       "tastingnotes           object\n",
       "pairings               object\n",
       "itemdescription        object\n",
       "liquortype             object\n",
       "categoryname           object\n",
       "stocktype              object\n",
       "subcategoryname        object\n",
       "sellingpackage         object\n",
       "sweetnessdescriptor    object\n",
       "winestyle              object\n",
       "winevarietal           object\n",
       "stylebody              object\n",
       "stylebody_fr           object\n",
       "styleflavour           object\n",
       "styleflavour_fr        object\n",
       "dtype: object"
      ]
     },
     "execution_count": 101,
     "metadata": {},
     "output_type": "execute_result"
    }
   ],
   "source": [
    "full_df.dtypes"
   ]
  },
  {
   "cell_type": "code",
   "execution_count": 182,
   "metadata": {
    "ExecuteTime": {
     "end_time": "2019-07-17T04:23:17.380794Z",
     "start_time": "2019-07-17T04:22:57.710439Z"
    }
   },
   "outputs": [],
   "source": [
    "full_df=pd.read_parquet('data/productinfo_combined.parquet')\n",
    "\n",
    "# a lot of these are just patterns that repeat so could be made into functions, \n",
    "# or ideally loop through all columns in one go.\n",
    "pd.options.mode.chained_assignment = None\n",
    "full_df['language']            = full_df['language'].astype('str')\n",
    "full_df['itemnumber']          = full_df['itemnumber'].astype(int)\n",
    "full_df['itemname']            = full_df['itemname'].astype('str')\n",
    "\n",
    "# Strip the $ From price\n",
    "full_df['price']               = full_df['price'].str.replace('$', '', case=False, regex=False).astype(float)\n",
    "                                                    \n",
    "# Strip productsize into quantity, volume and remove ml\n",
    "full_df['quantity']            = (full_df['productsize'].replace('N/A', None)\n",
    "                                                        .str.extract('(^.*)(?=x)')\n",
    "                                                        .replace(np.nan,'1')\n",
    "                                                        .astype(int)\n",
    "                                 )\n",
    "\n",
    "full_df['productsize']          = (full_df['productsize'].replace('(^.*x)','',regex=True)\n",
    "                                                          .str.extract('(\\d*)')\n",
    "                                                          .replace('',None,regex=False)\n",
    "                                                          .astype(int)\n",
    "                                  )\n",
    "\n",
    "full_df['isdiscontinued']      = full_df['isdiscontinued'].astype(bool)\n",
    "full_df['islimited']           = full_df['islimited'].astype(bool)\n",
    "\n",
    "# Convert N to False and Y to True\n",
    "full_df['am']                  = full_df['am'] == 'Y'\n",
    "\n",
    "full_df['ambonusmiles']        = full_df['ambonusmiles'].replace('','0',regex=False).astype(int)\n",
    "full_df['amexpiration']        = pd.to_datetime(full_df.amexpiration.replace(\"N/A\",'',regex=False))\n",
    "\n",
    "full_df['kosher']              = full_df['kosher'] == 'Y'\n",
    "full_df['lto']                 = full_df['lto'] == 'Y'\n",
    "\n",
    "full_df['ltoexpiration']       = pd.to_datetime(full_df.ltoexpiration.replace(\"N/A\",'',regex=False))\n",
    "full_df['ltoregularprice']     = full_df['ltoregularprice'].str.replace('$', '', case=False, regex=False).astype(float)\n",
    "full_df['ltosavings']          = full_df['ltosavings'].str.replace('$', '', case=False, regex=False).astype(float)\n",
    "\n",
    "full_df['releasedate']         = pd.to_datetime(full_df.releasedate.replace(\"N/A\",'',regex=False))\n",
    "\n",
    "full_df['upcnumber']           = full_df['upcnumber'].astype(int)\n",
    "full_df['sccnumber']           = full_df['sccnumber'].astype(int)\n",
    "\n",
    "full_df['vao']                 = full_df['vao'] == 'Y'\n",
    "full_df['vaodescription']      = full_df['vaodescription'].astype('str')\n",
    "full_df['vaoexpiration']       = pd.to_datetime(full_df.vaoexpiration.replace(\"N/A\",'',regex=False))\n",
    "\n",
    "full_df['vqa']                 = full_df['vqa'] == 'Y'\n",
    "full_df['productquantity']     = full_df['productquantity'].astype(int)\n",
    "\n",
    "full_df['producer']            = full_df['producer'].astype(str)\n",
    "full_df['producingsubregion']  = full_df['producingsubregion'].astype(str)\n",
    "full_df['producingregion']     = full_df['producingregion'].astype(str)\n",
    "full_df['producingcountry']    = full_df['producingcountry'].astype(str)\n",
    "\n",
    "full_df['alcoholpercentage']   = (full_df['alcoholpercentage'].replace('\\%', '', regex=True)\n",
    "                                                              .replace(\"N/A\",'',regex=False)\n",
    "                                                              .replace('','0', regex=False)\n",
    "                                                              .astype(float)\n",
    "                                 )\n",
    "\n",
    "full_df['sugarcontent']        = full_df['sugarcontent'].str.extract('(\\d*)')\n",
    "full_df['tastingnotes']        = full_df['tastingnotes'].astype(str)\n",
    "full_df['pairings']            = full_df['pairings'].astype(str)\n",
    "full_df['itemdescription']     = full_df['itemdescription'].astype(str)\n",
    "full_df['liquortype']          = full_df['liquortype'].astype(str)\n",
    "full_df['categoryname']        = full_df['categoryname'].astype(str)\n",
    "full_df['stocktype']           = full_df['stocktype'].astype(str)\n",
    "full_df['subcategoryname']     = full_df['subcategoryname'].astype(str)\n",
    "full_df['sellingpackage']      = full_df['sellingpackage'].astype(str)\n",
    "full_df['sweetnessdescriptor'] = full_df['sweetnessdescriptor'].astype(str)\n",
    "full_df['winestyle']           = full_df['winestyle'].astype(str)\n",
    "full_df['winevarietal']        = full_df['winevarietal'].astype(str)\n",
    "full_df['stylebody']           = full_df['stylebody'].astype(str)\n",
    "full_df['stylebody_fr']        = full_df['stylebody_fr'].astype(str)\n",
    "full_df['styleflavour']        = full_df['styleflavour'].astype(str)\n",
    "full_df['styleflavour_fr']     = full_df['styleflavour_fr'].astype(str)"
   ]
  },
  {
   "cell_type": "markdown",
   "metadata": {},
   "source": [
    "## Save to File"
   ]
  },
  {
   "cell_type": "code",
   "execution_count": 183,
   "metadata": {
    "ExecuteTime": {
     "end_time": "2019-07-17T04:23:31.098948Z",
     "start_time": "2019-07-17T04:23:30.007984Z"
    }
   },
   "outputs": [],
   "source": [
    "full_df.to_parquet('data/lcbo_productinfo.parquet')"
   ]
  },
  {
   "cell_type": "markdown",
   "metadata": {},
   "source": [
    "Filter on Whisky"
   ]
  },
  {
   "cell_type": "code",
   "execution_count": 192,
   "metadata": {
    "ExecuteTime": {
     "end_time": "2019-07-18T01:35:18.804948Z",
     "start_time": "2019-07-18T01:35:18.773156Z"
    }
   },
   "outputs": [],
   "source": [
    "whisky_df = full_df[full_df['categoryname'] == 'Whisky/Whiskey']"
   ]
  },
  {
   "cell_type": "code",
   "execution_count": 199,
   "metadata": {
    "ExecuteTime": {
     "end_time": "2019-07-18T01:37:26.968039Z",
     "start_time": "2019-07-18T01:37:26.862008Z"
    }
   },
   "outputs": [],
   "source": [
    "whisky_df.to_parquet('data/lcbo_whisky.parquet')"
   ]
  }
 ],
 "metadata": {
  "kernelspec": {
   "display_name": "Python 3",
   "language": "python",
   "name": "python3"
  },
  "language_info": {
   "codemirror_mode": {
    "name": "ipython",
    "version": 3
   },
   "file_extension": ".py",
   "mimetype": "text/x-python",
   "name": "python",
   "nbconvert_exporter": "python",
   "pygments_lexer": "ipython3",
   "version": "3.6.8"
  },
  "toc": {
   "base_numbering": 1,
   "nav_menu": {},
   "number_sections": true,
   "sideBar": true,
   "skip_h1_title": true,
   "title_cell": "Table of Contents",
   "title_sidebar": "Contents",
   "toc_cell": true,
   "toc_position": {
    "height": "calc(100% - 180px)",
    "left": "10px",
    "top": "150px",
    "width": "384px"
   },
   "toc_section_display": true,
   "toc_window_display": true
  }
 },
 "nbformat": 4,
 "nbformat_minor": 2
}
