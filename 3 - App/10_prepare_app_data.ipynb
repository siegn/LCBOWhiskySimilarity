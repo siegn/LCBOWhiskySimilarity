{
 "cells": [
  {
   "cell_type": "markdown",
   "metadata": {},
   "source": [
    "## Purpose\n",
    "To create the dash app, I need some specific formats of data that it can load in so it doesn't need to calculate everything on the fly.\n",
    "This notebook generates those datasets."
   ]
  },
  {
   "cell_type": "markdown",
   "metadata": {},
   "source": [
    "### Load Libraries and Data"
   ]
  },
  {
   "cell_type": "code",
   "execution_count": 1,
   "metadata": {
    "ExecuteTime": {
     "end_time": "2019-08-22T02:38:14.340641Z",
     "start_time": "2019-08-22T02:38:13.762168Z"
    }
   },
   "outputs": [],
   "source": [
    "import math\n",
    "import multiprocessing as mp\n",
    "import random\n",
    "import re\n",
    "import time\n",
    "import urllib.parse\n",
    "import urllib.request\n",
    "from urllib.error import HTTPError\n",
    "import matplotlib.pyplot as plt\n",
    "import numpy as np\n",
    "import pandas as pd\n",
    "import plotly.tools as tls\n",
    "from bs4 import BeautifulSoup\n",
    "from palettable.colorbrewer.sequential import Blues_9, OrRd_9, YlOrBr_9\n",
    "from wordcloud import STOPWORDS, WordCloud"
   ]
  },
  {
   "cell_type": "code",
   "execution_count": 3,
   "metadata": {
    "ExecuteTime": {
     "end_time": "2019-08-22T02:38:14.479140Z",
     "start_time": "2019-08-22T02:38:14.352101Z"
    },
    "scrolled": true
   },
   "outputs": [
    {
     "name": "stderr",
     "output_type": "stream",
     "text": [
      "/opt/tljh/user/lib/python3.6/site-packages/pyarrow/pandas_compat.py:708: FutureWarning: .labels was deprecated in version 0.24.0. Use .codes instead.\n",
      "  labels = getattr(columns, 'labels', None) or [\n",
      "/opt/tljh/user/lib/python3.6/site-packages/pyarrow/pandas_compat.py:735: FutureWarning: the 'labels' keyword is deprecated, use 'codes' instead\n",
      "  return pd.MultiIndex(levels=new_levels, labels=labels, names=columns.names)\n",
      "/opt/tljh/user/lib/python3.6/site-packages/pyarrow/pandas_compat.py:752: FutureWarning: .labels was deprecated in version 0.24.0. Use .codes instead.\n",
      "  labels, = index.labels\n"
     ]
    }
   ],
   "source": [
    "df = pd.read_parquet('../sprint_2/data/whisky_tfidf.parquet')\n",
    "whiskyinfo = pd.read_parquet('../sprint_2/data/whiskyinfo.parquet')\n",
    "similarities = pd.read_parquet('../sprint_2/data/similarities2.parquet')"
   ]
  },
  {
   "cell_type": "markdown",
   "metadata": {},
   "source": [
    "## Generate Wordcloud Images\n",
    "Wordclouds give a rough idea of the falvours in a whisky so it's nice to be able to show this to users."
   ]
  },
  {
   "cell_type": "code",
   "execution_count": 5,
   "metadata": {
    "ExecuteTime": {
     "end_time": "2019-08-22T02:38:19.022915Z",
     "start_time": "2019-08-22T02:38:18.905211Z"
    }
   },
   "outputs": [],
   "source": [
    "font_path = \"OpenSans-CondBold.ttf\"\n",
    "output_path = \"dash_app/wordcloudsblue/\"\n",
    "wcsize = 800 # Dimensions of image. I want it square which is why I only bother with one variable here.\n",
    "\n",
    "# This gives nice colors based on the chosen gradient from the palettable library\n",
    "def color_func(word, font_size, position, orientation, random_state=None, **kwargs):\n",
    "    return tuple(OrRd_9.colors[random.randint(2,8)])\n",
    "\n",
    "# This actually generates the wordcloud\n",
    "def generatewordcloud(whiskynum, bgcolor):\n",
    "    whisky = whiskyinfo.reset_index().iloc[whiskynum]\n",
    "    itemnumber = whisky.itemnumber \n",
    "    words = whisky.nose.tolist() + whisky.taste.tolist() + whisky.finish.tolist()\n",
    "    words = [word.upper() for word in words]\n",
    "    wc = WordCloud(background_color=bgcolor,font_path=font_path, max_font_size=300,\n",
    "                   width = wcsize, height=wcsize,random_state=42, prefer_horizontal=1)\n",
    "    wc.generate(' '.join(words))\n",
    "    wc.recolor(color_func=color_func, random_state=3)\n",
    "    wc.to_file(output_path+str(itemnumber)+'.png')\n",
    "\n",
    "    #plt.imshow(wc, interpolation='bilinear')"
   ]
  },
  {
   "cell_type": "markdown",
   "metadata": {},
   "source": [
    "To generate wordclouds for the full data set:"
   ]
  },
  {
   "cell_type": "code",
   "execution_count": 8,
   "metadata": {
    "ExecuteTime": {
     "end_time": "2019-08-22T02:48:37.607090Z",
     "start_time": "2019-08-22T02:38:55.242528Z"
    }
   },
   "outputs": [
    {
     "name": "stdout",
     "output_type": "stream",
     "text": [
      "59\n",
      "108\n",
      "319\n"
     ]
    }
   ],
   "source": [
    "bgcolor = \"#6abfde\"\n",
    "for i in range(whiskyinfo.shape[0]):\n",
    "    try:\n",
    "        generatewordcloud(i, bgcolor)\n",
    "    except:\n",
    "        print(i)"
   ]
  },
  {
   "cell_type": "markdown",
   "metadata": {},
   "source": [
    "## LCBO Links\n",
    "Surprisingly, the LCBO api doesn't actually give us links to their main page.\n",
    "To get them instead I'll make a search on their site and grab the result."
   ]
  },
  {
   "cell_type": "markdown",
   "metadata": {},
   "source": [
    "### Multiprocess Functions to Pull Item Links\n",
    "To speed up the link collection I split up the dataframe into a number of chunk equal to processors available on the machine. In the end this ran in about 10 seconds so I probably didn't need to bother."
   ]
  },
  {
   "cell_type": "code",
   "execution_count": 209,
   "metadata": {
    "ExecuteTime": {
     "end_time": "2019-08-21T02:45:20.601362Z",
     "start_time": "2019-08-21T02:45:20.580043Z"
    }
   },
   "outputs": [],
   "source": [
    "def productSearch(itemnumber):\n",
    "    url = 'https://www.lcbo.com/webapp/wcs/stores/servlet/SearchDisplay?sType=SimpleSearch&beginIndex=0&pageSize=12&catalogId=10051&langId=-1&showResultsPage=true&storeId=10203&searchTerm=' + str(itemnumber)\n",
    "    user_agent = 'Mozilla/5.0 (Windows NT 6.1; Win64; x64)'\n",
    "    values = {'name' : 'Firstname Lastname',\n",
    "              'location' : 'Toronto',\n",
    "              'language' : 'Python' }\n",
    "    headers = { 'User-Agent' : user_agent }\n",
    "    data = urllib.parse.urlencode(values)\n",
    "    data = data.encode('ascii')\n",
    "    req = urllib.request.Request(url, data, headers)\n",
    "    try:\n",
    "        with urllib.request.urlopen(req) as response:\n",
    "           content = response.read()\n",
    "        html = BeautifulSoup(content, 'html.parser')\n",
    "        try:\n",
    "            regex = r'(?<=document\\.location\\.href \\= \\\")[^\\\"]*(?=\\\")'\n",
    "            link = re.findall(regex, str(html))[0]\n",
    "            return link\n",
    "        except:\n",
    "            # might just show result page so gotta grab the link\n",
    "            regex = '(?<=a href\\=\\\")https:\\/\\/www.lcbo.com[^\"]*' + str(itemnumber)\n",
    "            link = re.findall(regex, str(html))[0]\n",
    "            return link\n",
    "    except:\n",
    "        return None\n",
    "\n",
    "def get_product_links(dataframe):\n",
    "    global results\n",
    "    results = pd.DataFrame(columns=['itemnumber','link'])\n",
    "    \n",
    "    # split dataframe into even chunks of counties, one chunk per core\n",
    "    \n",
    "    chunkcount = mp.cpu_count()\n",
    "    chunksize = math.ceil(len(dataframe)/chunkcount)\n",
    "\n",
    "    pool = mp.Pool(chunkcount)\n",
    "    for g, df in dataframe.groupby(np.arange(len(dataframe)) // chunksize):\n",
    "        pool.apply_async(mp_product_links,\n",
    "                         args = (df,),\n",
    "                         callback=collect_result)\n",
    "    pool.close()\n",
    "    pool.join()\n",
    "    \n",
    "    return results\n",
    "\n",
    "# each core runs this function to loop through the chunk and find links\n",
    "def mp_product_links(df):\n",
    "    subresult = pd.DataFrame(columns=['itemnumber','link'])\n",
    "    for item in df.itertuples():\n",
    "        itemnumber = item.itemnumber\n",
    "        link = productSearch(itemnumber)\n",
    "        subresult = subresult.append({'itemnumber':itemnumber,'link':link}, ignore_index=True)\n",
    "\n",
    "    return subresult\n",
    "\n",
    "# gather results together\n",
    "def collect_result(result):\n",
    "    global results\n",
    "    results = results.append(result)"
   ]
  },
  {
   "cell_type": "markdown",
   "metadata": {},
   "source": [
    "Here I append item links using the multiprocess function"
   ]
  },
  {
   "cell_type": "code",
   "execution_count": 210,
   "metadata": {
    "ExecuteTime": {
     "end_time": "2019-08-21T02:45:40.317205Z",
     "start_time": "2019-08-21T02:45:24.263311Z"
    }
   },
   "outputs": [
    {
     "data": {
      "text/html": [
       "<div>\n",
       "<style scoped>\n",
       "    .dataframe tbody tr th:only-of-type {\n",
       "        vertical-align: middle;\n",
       "    }\n",
       "\n",
       "    .dataframe tbody tr th {\n",
       "        vertical-align: top;\n",
       "    }\n",
       "\n",
       "    .dataframe thead th {\n",
       "        text-align: right;\n",
       "    }\n",
       "</style>\n",
       "<table border=\"1\" class=\"dataframe\">\n",
       "  <thead>\n",
       "    <tr style=\"text-align: right;\">\n",
       "      <th></th>\n",
       "      <th>itemnumber</th>\n",
       "      <th>link</th>\n",
       "    </tr>\n",
       "  </thead>\n",
       "  <tbody>\n",
       "    <tr>\n",
       "      <th>0</th>\n",
       "      <td>479949</td>\n",
       "      <td>https://www.lcbo.com/webapp/wcs/stores/servlet...</td>\n",
       "    </tr>\n",
       "    <tr>\n",
       "      <th>1</th>\n",
       "      <td>281824</td>\n",
       "      <td>https://www.lcbo.com/webapp/wcs/stores/servlet...</td>\n",
       "    </tr>\n",
       "    <tr>\n",
       "      <th>2</th>\n",
       "      <td>575001</td>\n",
       "      <td>https://www.lcbo.com/webapp/wcs/stores/servlet...</td>\n",
       "    </tr>\n",
       "    <tr>\n",
       "      <th>3</th>\n",
       "      <td>455329</td>\n",
       "      <td>https://www.lcbo.com/webapp/wcs/stores/servlet...</td>\n",
       "    </tr>\n",
       "    <tr>\n",
       "      <th>4</th>\n",
       "      <td>517904</td>\n",
       "      <td>https://www.lcbo.com/webapp/wcs/stores/servlet...</td>\n",
       "    </tr>\n",
       "  </tbody>\n",
       "</table>\n",
       "</div>"
      ],
      "text/plain": [
       "  itemnumber                                               link\n",
       "0     479949  https://www.lcbo.com/webapp/wcs/stores/servlet...\n",
       "1     281824  https://www.lcbo.com/webapp/wcs/stores/servlet...\n",
       "2     575001  https://www.lcbo.com/webapp/wcs/stores/servlet...\n",
       "3     455329  https://www.lcbo.com/webapp/wcs/stores/servlet...\n",
       "4     517904  https://www.lcbo.com/webapp/wcs/stores/servlet..."
      ]
     },
     "execution_count": 210,
     "metadata": {},
     "output_type": "execute_result"
    }
   ],
   "source": [
    "allitemnumbers = pd.DataFrame(df.reset_index()['itemnumber']).assign(link = None)\n",
    "\n",
    "itemlinks = get_product_links(allitemnumbers)\n",
    "itemlinks.head()"
   ]
  },
  {
   "cell_type": "markdown",
   "metadata": {},
   "source": [
    "These are no longer in the LCBO system so we will mark them as discontinued in the app interface."
   ]
  },
  {
   "cell_type": "code",
   "execution_count": 189,
   "metadata": {
    "ExecuteTime": {
     "end_time": "2019-08-21T02:16:34.103167Z",
     "start_time": "2019-08-21T02:16:34.064628Z"
    }
   },
   "outputs": [
    {
     "data": {
      "text/plain": [
       "itemnumber\n",
       "618702.0        WOODFORD RESERVE MC CHERRY WOOD SMOKED BARLEY\n",
       "463596.0    GLENDALOUGH 13 YEAR OLD SINGLE MALT IRISH WHISKEY\n",
       "298083.0                    ALBERTA PREMIUM DARK HORSE WHISKY\n",
       "434100.0    MACALLAN RARE CASK HIGHLAND SINGLE MALT SCOTCH...\n",
       "463752.0          THE FAMOUS GROUSE SMOKY BLACK SCOTCH WHISKY\n",
       "575837.0    BLAIR ATHOL 23-YEAR-OLD HIGHLAND SINGLE MALT S...\n",
       "560920.0                             ORPHAN BARREL ENTRAPMENT\n",
       "144311.0      TALISKER SINGLE MALT SCOTCH WHISKY 25 YEARS OLD\n",
       "11609.0                                 JACK DANIEL'S BBQ KIT\n",
       "579870.0                                  BOWMORE WHITE SANDS\n",
       "570374.0                                          GOLDEN SHOE\n",
       "417931.0    HIGHLAND PARK DARK ORIGINS SINGLE MALT SCOTCH ...\n",
       "517151.0                                       TWELVE BARRELS\n",
       "Name: itemname, dtype: object"
      ]
     },
     "execution_count": 189,
     "metadata": {},
     "output_type": "execute_result"
    }
   ],
   "source": [
    "itemlinks[itemlinks['link'].isnull()].set_index('itemnumber').join(whiskyinfo)['itemname']"
   ]
  },
  {
   "cell_type": "markdown",
   "metadata": {},
   "source": [
    "### Save to Disk"
   ]
  },
  {
   "cell_type": "code",
   "execution_count": 211,
   "metadata": {
    "ExecuteTime": {
     "end_time": "2019-08-21T02:45:45.814172Z",
     "start_time": "2019-08-21T02:45:45.801306Z"
    }
   },
   "outputs": [],
   "source": [
    "itemlinks.to_parquet(\"dash_app/data/itemlinks.parquet\")"
   ]
  },
  {
   "cell_type": "markdown",
   "metadata": {},
   "source": [
    "## Review Links\n",
    "To show users the links to reddit reviews, it's pretty easy since we already have the data. I'll just take out some columns that aren't needed and pre-sort."
   ]
  },
  {
   "cell_type": "code",
   "execution_count": 12,
   "metadata": {
    "ExecuteTime": {
     "end_time": "2019-08-23T19:06:27.215338Z",
     "start_time": "2019-08-23T19:06:26.975749Z"
    }
   },
   "outputs": [
    {
     "name": "stderr",
     "output_type": "stream",
     "text": [
      "/opt/tljh/user/lib/python3.6/site-packages/pyarrow/pandas_compat.py:708: FutureWarning:\n",
      "\n",
      ".labels was deprecated in version 0.24.0. Use .codes instead.\n",
      "\n",
      "/opt/tljh/user/lib/python3.6/site-packages/pyarrow/pandas_compat.py:735: FutureWarning:\n",
      "\n",
      "the 'labels' keyword is deprecated, use 'codes' instead\n",
      "\n",
      "/opt/tljh/user/lib/python3.6/site-packages/pyarrow/pandas_compat.py:752: FutureWarning:\n",
      "\n",
      ".labels was deprecated in version 0.24.0. Use .codes instead.\n",
      "\n"
     ]
    }
   ],
   "source": [
    "reviews = pd.read_parquet('../sprint_2/data/review_cats.parquet')"
   ]
  },
  {
   "cell_type": "code",
   "execution_count": 13,
   "metadata": {
    "ExecuteTime": {
     "end_time": "2019-08-23T19:06:29.182949Z",
     "start_time": "2019-08-23T19:06:29.169799Z"
    }
   },
   "outputs": [],
   "source": [
    "keepcolumns = ['itemnumber','username','reviewLink','rating']\n",
    "reviewlist = reviews[keepcolumns].set_index('itemnumber').sort_values('rating',ascending=False)"
   ]
  },
  {
   "cell_type": "markdown",
   "metadata": {},
   "source": [
    "\n",
    "To get values for a specific whisky we'll do this:"
   ]
  },
  {
   "cell_type": "code",
   "execution_count": 14,
   "metadata": {
    "ExecuteTime": {
     "end_time": "2019-08-23T19:06:31.152181Z",
     "start_time": "2019-08-23T19:06:31.126328Z"
    }
   },
   "outputs": [
    {
     "data": {
      "text/html": [
       "<div>\n",
       "<style scoped>\n",
       "    .dataframe tbody tr th:only-of-type {\n",
       "        vertical-align: middle;\n",
       "    }\n",
       "\n",
       "    .dataframe tbody tr th {\n",
       "        vertical-align: top;\n",
       "    }\n",
       "\n",
       "    .dataframe thead th {\n",
       "        text-align: right;\n",
       "    }\n",
       "</style>\n",
       "<table border=\"1\" class=\"dataframe\">\n",
       "  <thead>\n",
       "    <tr style=\"text-align: right;\">\n",
       "      <th></th>\n",
       "      <th>username</th>\n",
       "      <th>reviewLink</th>\n",
       "      <th>rating</th>\n",
       "    </tr>\n",
       "    <tr>\n",
       "      <th>itemnumber</th>\n",
       "      <th></th>\n",
       "      <th></th>\n",
       "      <th></th>\n",
       "    </tr>\n",
       "  </thead>\n",
       "  <tbody>\n",
       "    <tr>\n",
       "      <th>619320</th>\n",
       "      <td>TheWhiskeyJug</td>\n",
       "      <td>http://www.reddit.com/r/worldwhisky/comments/1...</td>\n",
       "      <td>84</td>\n",
       "    </tr>\n",
       "    <tr>\n",
       "      <th>619320</th>\n",
       "      <td>HawkI84</td>\n",
       "      <td>https://www.reddit.com/r/worldwhisky/comments/...</td>\n",
       "      <td>83</td>\n",
       "    </tr>\n",
       "    <tr>\n",
       "      <th>619320</th>\n",
       "      <td>Ethanized</td>\n",
       "      <td>https://www.reddit.com/r/worldwhisky/comments/...</td>\n",
       "      <td>80</td>\n",
       "    </tr>\n",
       "    <tr>\n",
       "      <th>619320</th>\n",
       "      <td>MicMumbles</td>\n",
       "      <td>http://www.reddit.com/r/worldwhisky/comments/1...</td>\n",
       "      <td>79</td>\n",
       "    </tr>\n",
       "    <tr>\n",
       "      <th>619320</th>\n",
       "      <td>Boyd86</td>\n",
       "      <td>https://www.reddit.com/r/worldwhisky/comments/...</td>\n",
       "      <td>78</td>\n",
       "    </tr>\n",
       "    <tr>\n",
       "      <th>619320</th>\n",
       "      <td>Texacer</td>\n",
       "      <td>http://www.reddit.com/r/WhiskeyReviews/comment...</td>\n",
       "      <td>77</td>\n",
       "    </tr>\n",
       "    <tr>\n",
       "      <th>619320</th>\n",
       "      <td>MajorHop</td>\n",
       "      <td>https://www.reddit.com/r/worldwhisky/comments/...</td>\n",
       "      <td>73</td>\n",
       "    </tr>\n",
       "    <tr>\n",
       "      <th>619320</th>\n",
       "      <td>spittiz</td>\n",
       "      <td>https://www.reddit.com/r/worldwhisky/comments/...</td>\n",
       "      <td>71</td>\n",
       "    </tr>\n",
       "    <tr>\n",
       "      <th>619320</th>\n",
       "      <td>TOModera</td>\n",
       "      <td>https://www.reddit.com/r/worldwhisky/comments/...</td>\n",
       "      <td>69</td>\n",
       "    </tr>\n",
       "    <tr>\n",
       "      <th>619320</th>\n",
       "      <td>theslicknick6</td>\n",
       "      <td>https://www.reddit.com/r/worldwhisky/comments/...</td>\n",
       "      <td>57</td>\n",
       "    </tr>\n",
       "  </tbody>\n",
       "</table>\n",
       "</div>"
      ],
      "text/plain": [
       "                 username                                         reviewLink  \\\n",
       "itemnumber                                                                     \n",
       "619320      TheWhiskeyJug  http://www.reddit.com/r/worldwhisky/comments/1...   \n",
       "619320            HawkI84  https://www.reddit.com/r/worldwhisky/comments/...   \n",
       "619320          Ethanized  https://www.reddit.com/r/worldwhisky/comments/...   \n",
       "619320         MicMumbles  http://www.reddit.com/r/worldwhisky/comments/1...   \n",
       "619320             Boyd86  https://www.reddit.com/r/worldwhisky/comments/...   \n",
       "619320            Texacer  http://www.reddit.com/r/WhiskeyReviews/comment...   \n",
       "619320           MajorHop  https://www.reddit.com/r/worldwhisky/comments/...   \n",
       "619320            spittiz  https://www.reddit.com/r/worldwhisky/comments/...   \n",
       "619320           TOModera  https://www.reddit.com/r/worldwhisky/comments/...   \n",
       "619320      theslicknick6  https://www.reddit.com/r/worldwhisky/comments/...   \n",
       "\n",
       "            rating  \n",
       "itemnumber          \n",
       "619320          84  \n",
       "619320          83  \n",
       "619320          80  \n",
       "619320          79  \n",
       "619320          78  \n",
       "619320          77  \n",
       "619320          73  \n",
       "619320          71  \n",
       "619320          69  \n",
       "619320          57  "
      ]
     },
     "execution_count": 14,
     "metadata": {},
     "output_type": "execute_result"
    }
   ],
   "source": [
    "reviewlist.loc[619320]"
   ]
  },
  {
   "cell_type": "markdown",
   "metadata": {},
   "source": [
    "### Save to Disk"
   ]
  },
  {
   "cell_type": "code",
   "execution_count": 259,
   "metadata": {
    "ExecuteTime": {
     "end_time": "2019-08-21T04:47:33.990884Z",
     "start_time": "2019-08-21T04:47:33.958759Z"
    }
   },
   "outputs": [],
   "source": [
    "reviewlist.to_parquet(\"dash_app/data/reviewlist.parquet\")"
   ]
  },
  {
   "cell_type": "markdown",
   "metadata": {},
   "source": [
    "## Dash App \n",
    "\n",
    "### App Development\n",
    "The python dash app is created in a new script without notebooks. The source code is available on my github: https://github.com/siegn/CSDA-1050F18S1/tree/master/nsiegel/sprint_3/dash_app\n",
    "\n",
    "### App Deployment\n",
    "The app is then deployed onto heroku, which is a free host for Dash apps.\n",
    "\n",
    "To do this, instructions were followed from here: https://dash.plot.ly/deployment\n",
    "\n",
    "### Viewing App\n",
    "The app can be viewed and tested here : http://lcbo-whisky-similarity.herokuapp.com/"
   ]
  }
 ],
 "metadata": {
  "kernelspec": {
   "display_name": "Python 3",
   "language": "python",
   "name": "python3"
  },
  "language_info": {
   "codemirror_mode": {
    "name": "ipython",
    "version": 3
   },
   "file_extension": ".py",
   "mimetype": "text/x-python",
   "name": "python",
   "nbconvert_exporter": "python",
   "pygments_lexer": "ipython3",
   "version": "3.6.8"
  },
  "toc": {
   "base_numbering": 1,
   "nav_menu": {},
   "number_sections": true,
   "sideBar": true,
   "skip_h1_title": false,
   "title_cell": "Table of Contents",
   "title_sidebar": "Contents",
   "toc_cell": false,
   "toc_position": {},
   "toc_section_display": true,
   "toc_window_display": true
  }
 },
 "nbformat": 4,
 "nbformat_minor": 2
}
