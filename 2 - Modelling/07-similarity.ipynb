{
 "cells": [
  {
   "cell_type": "markdown",
   "metadata": {},
   "source": [
    "# Purpose\n",
    "This notebook handles calculating which whiskies are similar to each other.\n",
    "\n",
    "The first step is to aggregate the dataframe to a whisky level. This involves:\n",
    "\n",
    "- Taking the mean of ratings within a whisky.\n",
    "- Concacting all text from within a review.\n",
    "\n",
    "While doing this we will also do some cleaning on the text and lemmatize it as well so that's its ready for the next step.\n",
    "\n",
    "Next we will calcualte similarities.\n",
    "\n",
    "To do this it trains a word2vec model on all of the whisky reviews.\n",
    "\n",
    "Afterwards it uses word mover distance on all other whiskies to calculate a similarity score.\n",
    "\n",
    "The output is a table in which each row contains two whisky ids and the similarity between them."
   ]
  },
  {
   "cell_type": "markdown",
   "metadata": {},
   "source": [
    "## Load Libraries and Data"
   ]
  },
  {
   "cell_type": "code",
   "execution_count": 406,
   "metadata": {
    "ExecuteTime": {
     "end_time": "2019-08-08T01:33:01.930992Z",
     "start_time": "2019-08-08T01:33:01.923391Z"
    },
    "scrolled": true
   },
   "outputs": [],
   "source": [
    "import multiprocessing as mp\n",
    "import re\n",
    "from collections import defaultdict\n",
    "\n",
    "import pandas as pd\n",
    "from gensim import corpora\n",
    "from gensim.parsing.preprocessing import (preprocess_string, remove_stopwords,\n",
    "                                          strip_multiple_whitespaces,\n",
    "                                          strip_numeric, strip_punctuation,\n",
    "                                          strip_short, strip_tags)\n",
    "from gensim.similarities import WmdSimilarity\n",
    "from nltk import pos_tag, word_tokenize\n",
    "from nltk.corpus import wordnet\n",
    "from nltk.stem import WordNetLemmatizer\n",
    "from pyemd import emd"
   ]
  },
  {
   "cell_type": "code",
   "execution_count": 400,
   "metadata": {
    "ExecuteTime": {
     "end_time": "2019-08-08T01:28:14.839595Z",
     "start_time": "2019-08-08T01:28:14.561653Z"
    }
   },
   "outputs": [
    {
     "name": "stderr",
     "output_type": "stream",
     "text": [
      "/opt/tljh/user/lib/python3.6/site-packages/pyarrow/pandas_compat.py:708: FutureWarning: .labels was deprecated in version 0.24.0. Use .codes instead.\n",
      "  labels = getattr(columns, 'labels', None) or [\n",
      "/opt/tljh/user/lib/python3.6/site-packages/pyarrow/pandas_compat.py:735: FutureWarning: the 'labels' keyword is deprecated, use 'codes' instead\n",
      "  return pd.MultiIndex(levels=new_levels, labels=labels, names=columns.names)\n",
      "/opt/tljh/user/lib/python3.6/site-packages/pyarrow/pandas_compat.py:752: FutureWarning: .labels was deprecated in version 0.24.0. Use .codes instead.\n",
      "  labels, = index.labels\n"
     ]
    }
   ],
   "source": [
    "reviews = pd.read_parquet('data/review_cats.parquet')"
   ]
  },
  {
   "cell_type": "markdown",
   "metadata": {
    "ExecuteTime": {
     "end_time": "2019-08-08T01:27:48.587585Z",
     "start_time": "2019-08-08T01:27:48.577345Z"
    }
   },
   "source": [
    "## Roll up to Whisky Level And Preprocess\n",
    "We can join back on other tables to get most information, what we are looking for is whisky itemnumber, aggregated review score, and aggregated nose, taste, and finish words."
   ]
  },
  {
   "cell_type": "markdown",
   "metadata": {},
   "source": [
    "### Roll Up"
   ]
  },
  {
   "cell_type": "code",
   "execution_count": 401,
   "metadata": {
    "ExecuteTime": {
     "end_time": "2019-08-08T01:28:18.265106Z",
     "start_time": "2019-08-08T01:28:17.730741Z"
    }
   },
   "outputs": [
    {
     "data": {
      "text/html": [
       "<div>\n",
       "<style scoped>\n",
       "    .dataframe tbody tr th:only-of-type {\n",
       "        vertical-align: middle;\n",
       "    }\n",
       "\n",
       "    .dataframe tbody tr th {\n",
       "        vertical-align: top;\n",
       "    }\n",
       "\n",
       "    .dataframe thead th {\n",
       "        text-align: right;\n",
       "    }\n",
       "</style>\n",
       "<table border=\"1\" class=\"dataframe\">\n",
       "  <thead>\n",
       "    <tr style=\"text-align: right;\">\n",
       "      <th></th>\n",
       "      <th></th>\n",
       "      <th>RedditWhiskyIDs</th>\n",
       "      <th>reviewIDs</th>\n",
       "      <th>rating_mean</th>\n",
       "      <th>rating_std</th>\n",
       "      <th>style</th>\n",
       "      <th>nose</th>\n",
       "      <th>taste</th>\n",
       "      <th>finish</th>\n",
       "    </tr>\n",
       "    <tr>\n",
       "      <th>Name</th>\n",
       "      <th>itemnumber</th>\n",
       "      <th></th>\n",
       "      <th></th>\n",
       "      <th></th>\n",
       "      <th></th>\n",
       "      <th></th>\n",
       "      <th></th>\n",
       "      <th></th>\n",
       "      <th></th>\n",
       "    </tr>\n",
       "  </thead>\n",
       "  <tbody>\n",
       "    <tr>\n",
       "      <th>12 YO KNAPPOGUE CASTLE IRISH SINGLE MALT WHISKEY</th>\n",
       "      <th>619320</th>\n",
       "      <td>[5277, 5278, 5279]</td>\n",
       "      <td>[20457, 20458, 20459, 20460, 20461, 20462, 204...</td>\n",
       "      <td>75.100000</td>\n",
       "      <td>8.020114</td>\n",
       "      <td>Ireland</td>\n",
       "      <td>n crisp apple, lots of peach, vanilla, honey. ...</td>\n",
       "      <td>p its fresh and fruity again, lots of peaches ...</td>\n",
       "      <td>f fruity and malty. the malt dies off quickly ...</td>\n",
       "    </tr>\n",
       "    <tr>\n",
       "      <th>1792 SINGLE BARREL KENTUCKY STRAIGHT BOURBON WHISKY</th>\n",
       "      <th>496729</th>\n",
       "      <td>[24, 20, 21, 23]</td>\n",
       "      <td>[60, 61, 62, 63, 65, 66]</td>\n",
       "      <td>72.166667</td>\n",
       "      <td>9.042492</td>\n",
       "      <td>Bourbon</td>\n",
       "      <td>sweet corn, oak, cotton candy/birthday cake, ...</td>\n",
       "      <td>seaweed, corn, mint, brown sugar crackers, br...</td>\n",
       "      <td>edamame, ginger, wheat, werther's, corn mediu...</td>\n",
       "    </tr>\n",
       "    <tr>\n",
       "      <th>1792 SMALL BATCH KENTUCKY STRAIGHT BOURBON</th>\n",
       "      <th>208918</th>\n",
       "      <td>[25]</td>\n",
       "      <td>[67, 68, 69, 70, 71, 72, 73, 74, 75, 76]</td>\n",
       "      <td>76.200000</td>\n",
       "      <td>4.263541</td>\n",
       "      <td>Bourbon</td>\n",
       "      <td>this is the 1792 i remember. custard and bana...</td>\n",
       "      <td>again, similar to my recollections. hotter th...</td>\n",
       "      <td>dry. wood char, barrel flavour. yeasty? herba...</td>\n",
       "    </tr>\n",
       "    <tr>\n",
       "      <th>601 BOURBON</th>\n",
       "      <th>634519</th>\n",
       "      <td>[29]</td>\n",
       "      <td>[97]</td>\n",
       "      <td>58.000000</td>\n",
       "      <td>NaN</td>\n",
       "      <td>Bourbon</td>\n",
       "      <td>grain funk, milled corn, herbal, wet dirt. sm...</td>\n",
       "      <td>young sharp corn graininess, astringent, copp...</td>\n",
       "      <td>short, medium warmth, canned corn and oak not...</td>\n",
       "    </tr>\n",
       "    <tr>\n",
       "      <th>ABERFELDY 12 YEAR OLD</th>\n",
       "      <th>255281</th>\n",
       "      <td>[36, 37]</td>\n",
       "      <td>[113, 114, 115, 116, 117, 118, 119, 120, 121, ...</td>\n",
       "      <td>76.931034</td>\n",
       "      <td>6.181372</td>\n",
       "      <td>Highland</td>\n",
       "      <td>•\\t slight salty tones, but also a bit of swee...</td>\n",
       "      <td>•\\t fairly sweet, a fair bit of burn, plums, a...</td>\n",
       "      <td>let's start with the arran sauternes cask   •\\...</td>\n",
       "    </tr>\n",
       "  </tbody>\n",
       "</table>\n",
       "</div>"
      ],
      "text/plain": [
       "                                                                  RedditWhiskyIDs  \\\n",
       "Name                                               itemnumber                       \n",
       "12 YO KNAPPOGUE CASTLE IRISH SINGLE MALT WHISKEY   619320      [5277, 5278, 5279]   \n",
       "1792 SINGLE BARREL KENTUCKY STRAIGHT BOURBON WH... 496729        [24, 20, 21, 23]   \n",
       "1792 SMALL BATCH KENTUCKY STRAIGHT BOURBON         208918                    [25]   \n",
       "601 BOURBON                                        634519                    [29]   \n",
       "ABERFELDY 12 YEAR OLD                              255281                [36, 37]   \n",
       "\n",
       "                                                                                                       reviewIDs  \\\n",
       "Name                                               itemnumber                                                      \n",
       "12 YO KNAPPOGUE CASTLE IRISH SINGLE MALT WHISKEY   619320      [20457, 20458, 20459, 20460, 20461, 20462, 204...   \n",
       "1792 SINGLE BARREL KENTUCKY STRAIGHT BOURBON WH... 496729                               [60, 61, 62, 63, 65, 66]   \n",
       "1792 SMALL BATCH KENTUCKY STRAIGHT BOURBON         208918               [67, 68, 69, 70, 71, 72, 73, 74, 75, 76]   \n",
       "601 BOURBON                                        634519                                                   [97]   \n",
       "ABERFELDY 12 YEAR OLD                              255281      [113, 114, 115, 116, 117, 118, 119, 120, 121, ...   \n",
       "\n",
       "                                                               rating_mean  \\\n",
       "Name                                               itemnumber                \n",
       "12 YO KNAPPOGUE CASTLE IRISH SINGLE MALT WHISKEY   619320        75.100000   \n",
       "1792 SINGLE BARREL KENTUCKY STRAIGHT BOURBON WH... 496729        72.166667   \n",
       "1792 SMALL BATCH KENTUCKY STRAIGHT BOURBON         208918        76.200000   \n",
       "601 BOURBON                                        634519        58.000000   \n",
       "ABERFELDY 12 YEAR OLD                              255281        76.931034   \n",
       "\n",
       "                                                               rating_std  \\\n",
       "Name                                               itemnumber               \n",
       "12 YO KNAPPOGUE CASTLE IRISH SINGLE MALT WHISKEY   619320        8.020114   \n",
       "1792 SINGLE BARREL KENTUCKY STRAIGHT BOURBON WH... 496729        9.042492   \n",
       "1792 SMALL BATCH KENTUCKY STRAIGHT BOURBON         208918        4.263541   \n",
       "601 BOURBON                                        634519             NaN   \n",
       "ABERFELDY 12 YEAR OLD                              255281        6.181372   \n",
       "\n",
       "                                                                  style  \\\n",
       "Name                                               itemnumber             \n",
       "12 YO KNAPPOGUE CASTLE IRISH SINGLE MALT WHISKEY   619320       Ireland   \n",
       "1792 SINGLE BARREL KENTUCKY STRAIGHT BOURBON WH... 496729       Bourbon   \n",
       "1792 SMALL BATCH KENTUCKY STRAIGHT BOURBON         208918       Bourbon   \n",
       "601 BOURBON                                        634519       Bourbon   \n",
       "ABERFELDY 12 YEAR OLD                              255281      Highland   \n",
       "\n",
       "                                                                                                            nose  \\\n",
       "Name                                               itemnumber                                                      \n",
       "12 YO KNAPPOGUE CASTLE IRISH SINGLE MALT WHISKEY   619320      n crisp apple, lots of peach, vanilla, honey. ...   \n",
       "1792 SINGLE BARREL KENTUCKY STRAIGHT BOURBON WH... 496729       sweet corn, oak, cotton candy/birthday cake, ...   \n",
       "1792 SMALL BATCH KENTUCKY STRAIGHT BOURBON         208918       this is the 1792 i remember. custard and bana...   \n",
       "601 BOURBON                                        634519       grain funk, milled corn, herbal, wet dirt. sm...   \n",
       "ABERFELDY 12 YEAR OLD                              255281      •\\t slight salty tones, but also a bit of swee...   \n",
       "\n",
       "                                                                                                           taste  \\\n",
       "Name                                               itemnumber                                                      \n",
       "12 YO KNAPPOGUE CASTLE IRISH SINGLE MALT WHISKEY   619320      p its fresh and fruity again, lots of peaches ...   \n",
       "1792 SINGLE BARREL KENTUCKY STRAIGHT BOURBON WH... 496729       seaweed, corn, mint, brown sugar crackers, br...   \n",
       "1792 SMALL BATCH KENTUCKY STRAIGHT BOURBON         208918       again, similar to my recollections. hotter th...   \n",
       "601 BOURBON                                        634519       young sharp corn graininess, astringent, copp...   \n",
       "ABERFELDY 12 YEAR OLD                              255281      •\\t fairly sweet, a fair bit of burn, plums, a...   \n",
       "\n",
       "                                                                                                          finish  \n",
       "Name                                               itemnumber                                                     \n",
       "12 YO KNAPPOGUE CASTLE IRISH SINGLE MALT WHISKEY   619320      f fruity and malty. the malt dies off quickly ...  \n",
       "1792 SINGLE BARREL KENTUCKY STRAIGHT BOURBON WH... 496729       edamame, ginger, wheat, werther's, corn mediu...  \n",
       "1792 SMALL BATCH KENTUCKY STRAIGHT BOURBON         208918       dry. wood char, barrel flavour. yeasty? herba...  \n",
       "601 BOURBON                                        634519       short, medium warmth, canned corn and oak not...  \n",
       "ABERFELDY 12 YEAR OLD                              255281      let's start with the arran sauternes cask   •\\...  "
      ]
     },
     "execution_count": 401,
     "metadata": {},
     "output_type": "execute_result"
    }
   ],
   "source": [
    "# define a custom aggregation function that returns a concatenated version of all strings in the group by\n",
    "def words(col):\n",
    "    return ''.join(col)\n",
    "\n",
    "# and a custom aggregation to hold the Reddit review Id's and Reddit whisky Ids we've joined,\n",
    "# in case we ever want to go backwards\n",
    "def distinctlist(col):\n",
    "    return list(set(list(col)))\n",
    "\n",
    "# create rolled up dataframe\n",
    "whisky = (reviews[['rating','style','nose','taste','finish', 'RedditWhiskyID', 'reviewID', 'Name', 'itemnumber']]\n",
    "         .groupby(['Name','itemnumber'])\n",
    "         .agg({\n",
    "             'RedditWhiskyID': distinctlist,\n",
    "             'reviewID': list,\n",
    "             'rating': ['mean','std'],\n",
    "             'style': pd.Series.mode,\n",
    "             'nose': words,\n",
    "             'taste': words,\n",
    "             'finish': words\n",
    "             }\n",
    "            )\n",
    ")\n",
    "\n",
    "# collapse multiindex on columns\n",
    "whisky.columns = ['_'.join(col).strip() for col in whisky.columns.values]\n",
    "\n",
    "# rename columns\n",
    "whisky = whisky.rename({'RedditWhiskyID_distinctlist': 'RedditWhiskyIDs',\n",
    "              'reviewID_list': 'reviewIDs',\n",
    "              'style_mode':'style',\n",
    "              'nose_words':'nose',\n",
    "              'taste_words':'taste',\n",
    "              'finish_words':'finish'\n",
    "             }, axis='columns')\n",
    "\n",
    "whisky.head()"
   ]
  },
  {
   "cell_type": "markdown",
   "metadata": {
    "ExecuteTime": {
     "end_time": "2019-08-08T01:28:49.728080Z",
     "start_time": "2019-08-08T01:28:49.708703Z"
    }
   },
   "source": [
    "### Preprocess Reviews\n",
    "Here we need to do some data cleaning on the text, but the important part is the lemmatization. Here's a summary of what we are doing:\n",
    "\n",
    "- Make everything lowercase\n",
    "- Replace weird apostrophes and quotes with normal ones\n",
    "- Remove any html tags that might have ended up in here\n",
    "- Tag word position then lemmatize\n",
    "- Remove all punctuation\n",
    "- Remove words less than 3 letters\n",
    "- Trip duplicated whitespace\n",
    "- Remove all numbers\n",
    "- Remove stopwords such as the, and, etc\n",
    "\n",
    "\n",
    "Gensim has some nifty preprocessing functions. \n",
    "Here we define a list of filters we want to run on the data, then apply it to our reviews.\n",
    "The problem is that there are some limitations to the built in function so we will need to define our own in addition:\n",
    "\n",
    "- Standard filters don't catch some funny apostrophe's and quotation marks so we will replace those.\n",
    "- Gensim lemmatizing library requires some python2 dependencies so we'll use nltk instead."
   ]
  },
  {
   "cell_type": "code",
   "execution_count": 408,
   "metadata": {
    "ExecuteTime": {
     "end_time": "2019-08-08T01:40:01.879090Z",
     "start_time": "2019-08-08T01:33:58.560239Z"
    }
   },
   "outputs": [
    {
     "data": {
      "text/html": [
       "<div>\n",
       "<style scoped>\n",
       "    .dataframe tbody tr th:only-of-type {\n",
       "        vertical-align: middle;\n",
       "    }\n",
       "\n",
       "    .dataframe tbody tr th {\n",
       "        vertical-align: top;\n",
       "    }\n",
       "\n",
       "    .dataframe thead th {\n",
       "        text-align: right;\n",
       "    }\n",
       "</style>\n",
       "<table border=\"1\" class=\"dataframe\">\n",
       "  <thead>\n",
       "    <tr style=\"text-align: right;\">\n",
       "      <th></th>\n",
       "      <th></th>\n",
       "      <th>RedditWhiskyIDs</th>\n",
       "      <th>reviewIDs</th>\n",
       "      <th>rating_mean</th>\n",
       "      <th>rating_std</th>\n",
       "      <th>style</th>\n",
       "      <th>nose</th>\n",
       "      <th>taste</th>\n",
       "      <th>finish</th>\n",
       "    </tr>\n",
       "    <tr>\n",
       "      <th>Name</th>\n",
       "      <th>itemnumber</th>\n",
       "      <th></th>\n",
       "      <th></th>\n",
       "      <th></th>\n",
       "      <th></th>\n",
       "      <th></th>\n",
       "      <th></th>\n",
       "      <th></th>\n",
       "      <th></th>\n",
       "    </tr>\n",
       "  </thead>\n",
       "  <tbody>\n",
       "    <tr>\n",
       "      <th>12 YO KNAPPOGUE CASTLE IRISH SINGLE MALT WHISKEY</th>\n",
       "      <th>619320</th>\n",
       "      <td>[5277, 5278, 5279]</td>\n",
       "      <td>[20457, 20458, 20459, 20460, 20461, 20462, 204...</td>\n",
       "      <td>75.100000</td>\n",
       "      <td>8.020114</td>\n",
       "      <td>Ireland</td>\n",
       "      <td>[crisp, apple, lot, peach, vanilla, honey, fru...</td>\n",
       "      <td>[fresh, fruity, lot, peach, fresh, peach, sour...</td>\n",
       "      <td>[fruity, malty, malt, quickly, peach, note, ha...</td>\n",
       "    </tr>\n",
       "    <tr>\n",
       "      <th>1792 SINGLE BARREL KENTUCKY STRAIGHT BOURBON WHISKY</th>\n",
       "      <th>496729</th>\n",
       "      <td>[24, 20, 21, 23]</td>\n",
       "      <td>[60, 61, 62, 63, 65, 66]</td>\n",
       "      <td>72.166667</td>\n",
       "      <td>9.042492</td>\n",
       "      <td>Bourbon</td>\n",
       "      <td>[sweet, corn, oak, cotton, candy, birthday, ca...</td>\n",
       "      <td>[seaweed, corn, mint, brown, sugar, cracker, b...</td>\n",
       "      <td>[edamame, ginger, wheat, werther, corn, medium...</td>\n",
       "    </tr>\n",
       "    <tr>\n",
       "      <th>1792 SMALL BATCH KENTUCKY STRAIGHT BOURBON</th>\n",
       "      <th>208918</th>\n",
       "      <td>[25]</td>\n",
       "      <td>[67, 68, 69, 70, 71, 72, 73, 74, 75, 76]</td>\n",
       "      <td>76.200000</td>\n",
       "      <td>4.263541</td>\n",
       "      <td>Bourbon</td>\n",
       "      <td>[remember, custard, banana, lot, custard, bana...</td>\n",
       "      <td>[similar, recollection, hotter, expect, thinne...</td>\n",
       "      <td>[dry, wood, char, barrel, flavour, yeasty, her...</td>\n",
       "    </tr>\n",
       "    <tr>\n",
       "      <th>601 BOURBON</th>\n",
       "      <th>634519</th>\n",
       "      <td>[29]</td>\n",
       "      <td>[97]</td>\n",
       "      <td>58.000000</td>\n",
       "      <td>NaN</td>\n",
       "      <td>Bourbon</td>\n",
       "      <td>[grain, funk, corn, herbal, wet, dirt, smell, ...</td>\n",
       "      <td>[young, sharp, corn, graininess, astringent, c...</td>\n",
       "      <td>[short, medium, warmth, corn, oak, note, herb,...</td>\n",
       "    </tr>\n",
       "    <tr>\n",
       "      <th>ABERFELDY 12 YEAR OLD</th>\n",
       "      <th>255281</th>\n",
       "      <td>[36, 37]</td>\n",
       "      <td>[113, 114, 115, 116, 117, 118, 119, 120, 121, ...</td>\n",
       "      <td>76.931034</td>\n",
       "      <td>6.181372</td>\n",
       "      <td>Highland</td>\n",
       "      <td>[slight, salty, tone, bit, sweet, surprised, s...</td>\n",
       "      <td>[fairly, sweet, fair, bit, burn, plum, vaguely...</td>\n",
       "      <td>[let, start, arran, sauterne, cask, medium, di...</td>\n",
       "    </tr>\n",
       "  </tbody>\n",
       "</table>\n",
       "</div>"
      ],
      "text/plain": [
       "                                                                  RedditWhiskyIDs  \\\n",
       "Name                                               itemnumber                       \n",
       "12 YO KNAPPOGUE CASTLE IRISH SINGLE MALT WHISKEY   619320      [5277, 5278, 5279]   \n",
       "1792 SINGLE BARREL KENTUCKY STRAIGHT BOURBON WH... 496729        [24, 20, 21, 23]   \n",
       "1792 SMALL BATCH KENTUCKY STRAIGHT BOURBON         208918                    [25]   \n",
       "601 BOURBON                                        634519                    [29]   \n",
       "ABERFELDY 12 YEAR OLD                              255281                [36, 37]   \n",
       "\n",
       "                                                                                                       reviewIDs  \\\n",
       "Name                                               itemnumber                                                      \n",
       "12 YO KNAPPOGUE CASTLE IRISH SINGLE MALT WHISKEY   619320      [20457, 20458, 20459, 20460, 20461, 20462, 204...   \n",
       "1792 SINGLE BARREL KENTUCKY STRAIGHT BOURBON WH... 496729                               [60, 61, 62, 63, 65, 66]   \n",
       "1792 SMALL BATCH KENTUCKY STRAIGHT BOURBON         208918               [67, 68, 69, 70, 71, 72, 73, 74, 75, 76]   \n",
       "601 BOURBON                                        634519                                                   [97]   \n",
       "ABERFELDY 12 YEAR OLD                              255281      [113, 114, 115, 116, 117, 118, 119, 120, 121, ...   \n",
       "\n",
       "                                                               rating_mean  \\\n",
       "Name                                               itemnumber                \n",
       "12 YO KNAPPOGUE CASTLE IRISH SINGLE MALT WHISKEY   619320        75.100000   \n",
       "1792 SINGLE BARREL KENTUCKY STRAIGHT BOURBON WH... 496729        72.166667   \n",
       "1792 SMALL BATCH KENTUCKY STRAIGHT BOURBON         208918        76.200000   \n",
       "601 BOURBON                                        634519        58.000000   \n",
       "ABERFELDY 12 YEAR OLD                              255281        76.931034   \n",
       "\n",
       "                                                               rating_std  \\\n",
       "Name                                               itemnumber               \n",
       "12 YO KNAPPOGUE CASTLE IRISH SINGLE MALT WHISKEY   619320        8.020114   \n",
       "1792 SINGLE BARREL KENTUCKY STRAIGHT BOURBON WH... 496729        9.042492   \n",
       "1792 SMALL BATCH KENTUCKY STRAIGHT BOURBON         208918        4.263541   \n",
       "601 BOURBON                                        634519             NaN   \n",
       "ABERFELDY 12 YEAR OLD                              255281        6.181372   \n",
       "\n",
       "                                                                  style  \\\n",
       "Name                                               itemnumber             \n",
       "12 YO KNAPPOGUE CASTLE IRISH SINGLE MALT WHISKEY   619320       Ireland   \n",
       "1792 SINGLE BARREL KENTUCKY STRAIGHT BOURBON WH... 496729       Bourbon   \n",
       "1792 SMALL BATCH KENTUCKY STRAIGHT BOURBON         208918       Bourbon   \n",
       "601 BOURBON                                        634519       Bourbon   \n",
       "ABERFELDY 12 YEAR OLD                              255281      Highland   \n",
       "\n",
       "                                                                                                            nose  \\\n",
       "Name                                               itemnumber                                                      \n",
       "12 YO KNAPPOGUE CASTLE IRISH SINGLE MALT WHISKEY   619320      [crisp, apple, lot, peach, vanilla, honey, fru...   \n",
       "1792 SINGLE BARREL KENTUCKY STRAIGHT BOURBON WH... 496729      [sweet, corn, oak, cotton, candy, birthday, ca...   \n",
       "1792 SMALL BATCH KENTUCKY STRAIGHT BOURBON         208918      [remember, custard, banana, lot, custard, bana...   \n",
       "601 BOURBON                                        634519      [grain, funk, corn, herbal, wet, dirt, smell, ...   \n",
       "ABERFELDY 12 YEAR OLD                              255281      [slight, salty, tone, bit, sweet, surprised, s...   \n",
       "\n",
       "                                                                                                           taste  \\\n",
       "Name                                               itemnumber                                                      \n",
       "12 YO KNAPPOGUE CASTLE IRISH SINGLE MALT WHISKEY   619320      [fresh, fruity, lot, peach, fresh, peach, sour...   \n",
       "1792 SINGLE BARREL KENTUCKY STRAIGHT BOURBON WH... 496729      [seaweed, corn, mint, brown, sugar, cracker, b...   \n",
       "1792 SMALL BATCH KENTUCKY STRAIGHT BOURBON         208918      [similar, recollection, hotter, expect, thinne...   \n",
       "601 BOURBON                                        634519      [young, sharp, corn, graininess, astringent, c...   \n",
       "ABERFELDY 12 YEAR OLD                              255281      [fairly, sweet, fair, bit, burn, plum, vaguely...   \n",
       "\n",
       "                                                                                                          finish  \n",
       "Name                                               itemnumber                                                     \n",
       "12 YO KNAPPOGUE CASTLE IRISH SINGLE MALT WHISKEY   619320      [fruity, malty, malt, quickly, peach, note, ha...  \n",
       "1792 SINGLE BARREL KENTUCKY STRAIGHT BOURBON WH... 496729      [edamame, ginger, wheat, werther, corn, medium...  \n",
       "1792 SMALL BATCH KENTUCKY STRAIGHT BOURBON         208918      [dry, wood, char, barrel, flavour, yeasty, her...  \n",
       "601 BOURBON                                        634519      [short, medium, warmth, corn, oak, note, herb,...  \n",
       "ABERFELDY 12 YEAR OLD                              255281      [let, start, arran, sauterne, cask, medium, di...  "
      ]
     },
     "execution_count": 408,
     "metadata": {},
     "output_type": "execute_result"
    }
   ],
   "source": [
    "whiskyp = whisky\n",
    "\n",
    "# The standard filters aren't catching the funny quotation and apostrophe's in some reviews so add a new function:\n",
    "def fix_apostrophes(s):\n",
    "    return re.sub('“|”|’', '', s)\n",
    "\n",
    "# gensim has a lemmatizer but it requires some libraries that haven't been updated to python 3,\n",
    "# and it doesn't handle position tags as well.\n",
    "# here we define a lemmatize function that tags words first and converts nltk tags to wordnet tags.\n",
    "def lemmatize_text(text):\n",
    "    \n",
    "    lemmatizer = WordNetLemmatizer() \n",
    "\n",
    "    lemmatized_output = \" \".join([lemmatizer.lemmatize(w, get_wordnet_pos(w)) for w in word_tokenize(text)])\n",
    "    return lemmatized_output\n",
    "\n",
    "def get_wordnet_pos(word):\n",
    "    tag = pos_tag([word])[0][1][0].upper()\n",
    "    tag_dict = {\"J\": wordnet.ADJ,\n",
    "                \"N\": wordnet.NOUN,\n",
    "                \"V\": wordnet.VERB,\n",
    "                \"R\": wordnet.ADV}\n",
    "    return tag_dict.get(tag, wordnet.NOUN)\n",
    "\n",
    "# List all of the functions we want to apply\n",
    "CUSTOM_FILTERS = [lambda x: x.lower(),         # make everything lowercase\n",
    "                  fix_apostrophes,             # replace weird apostrophes and quotes with normal ones\n",
    "                  strip_tags,                  # remove any html tags that might have ended up in here\n",
    "                  lemmatize_text,              # tag word position then lemmatize\n",
    "                  strip_punctuation,           # remove all punctuation\n",
    "                  strip_short,                 # remove words less than 3 letters\n",
    "                  strip_multiple_whitespaces,  # trip duplicated whitespace\n",
    "                  strip_numeric,               # remove all numbers\n",
    "                  remove_stopwords             # remove stopwords such as the, and, etc\n",
    "                 ]\n",
    "\n",
    "# process columns\n",
    "for column in ['nose','taste','finish']:\n",
    "    whiskyp[column] = whiskyp.apply(lambda row: preprocess_string(row[column], CUSTOM_FILTERS), axis='columns')\n",
    "\n",
    "# take a look\n",
    "whiskyp.head()"
   ]
  },
  {
   "cell_type": "markdown",
   "metadata": {},
   "source": [
    "### Save to File"
   ]
  },
  {
   "cell_type": "code",
   "execution_count": 409,
   "metadata": {
    "ExecuteTime": {
     "end_time": "2019-08-08T01:40:02.078389Z",
     "start_time": "2019-08-08T01:40:01.887279Z"
    }
   },
   "outputs": [],
   "source": [
    "# convert datatype of column so it doesn't complain\n",
    "whiskyp['style'] = whiskyp['style'].astype('str')\n",
    "whiskyp.to_parquet('data/whisky_processed.parquet')"
   ]
  },
  {
   "cell_type": "markdown",
   "metadata": {},
   "source": [
    "## Similarity"
   ]
  },
  {
   "cell_type": "code",
   "execution_count": 313,
   "metadata": {
    "ExecuteTime": {
     "end_time": "2019-08-05T22:21:17.406714Z",
     "start_time": "2019-08-05T22:21:17.277509Z"
    },
    "scrolled": true
   },
   "outputs": [
    {
     "name": "stderr",
     "output_type": "stream",
     "text": [
      "/opt/tljh/user/lib/python3.6/site-packages/pyarrow/pandas_compat.py:708: FutureWarning: .labels was deprecated in version 0.24.0. Use .codes instead.\n",
      "  labels = getattr(columns, 'labels', None) or [\n",
      "/opt/tljh/user/lib/python3.6/site-packages/pyarrow/pandas_compat.py:735: FutureWarning: the 'labels' keyword is deprecated, use 'codes' instead\n",
      "  return pd.MultiIndex(levels=new_levels, labels=labels, names=columns.names)\n",
      "/opt/tljh/user/lib/python3.6/site-packages/pyarrow/pandas_compat.py:752: FutureWarning: .labels was deprecated in version 0.24.0. Use .codes instead.\n",
      "  labels, = index.labels\n"
     ]
    }
   ],
   "source": [
    "whiskyp = pd.read_parquet('data/whisky_processed.parquet')"
   ]
  },
  {
   "cell_type": "markdown",
   "metadata": {},
   "source": [
    "### Build Document Texts\n",
    "Before training our model we need to get lists of tokens from the reviews. Here we create a function to do this and then use it on the nose, taste, and finish columns.\n",
    "\n",
    "At this point we will also remove all of the region/style names to make sure that we aren't inadvertantly telling it a cluster just based on region.\n",
    "\n",
    "There's also some weird words that made their way in or misspelled words so let's take only english words here. This should also help get rid of distillery names that we didn't catch."
   ]
  },
  {
   "cell_type": "code",
   "execution_count": 379,
   "metadata": {
    "ExecuteTime": {
     "end_time": "2019-08-07T00:04:41.928499Z",
     "start_time": "2019-08-07T00:04:41.922869Z"
    }
   },
   "outputs": [],
   "source": [
    "# Get list of regions to filter out of text.\n",
    "# The length restriction is to handle whiskies where people have marked it as two different regions.\n",
    "regions = [item.lower() for item in whiskyp['style'].unique() if len(item) < 15]\n",
    "\n",
    "# Add some more words not caught by this:\n",
    "regions = regions + ['irish', 'whisky']"
   ]
  },
  {
   "cell_type": "code",
   "execution_count": 380,
   "metadata": {
    "ExecuteTime": {
     "end_time": "2019-08-07T00:04:45.309402Z",
     "start_time": "2019-08-07T00:04:45.300636Z"
    }
   },
   "outputs": [],
   "source": [
    "# takes a column and returns a list of tokens that occur more than once in the dataset\n",
    "def createtextlist(column):\n",
    "\n",
    "    # convert to list of lists\n",
    "    texts = [list(document) for document in column]\n",
    "\n",
    "    # remove words that only occur once since they won't help find similarities\n",
    "    frequency = defaultdict(int)\n",
    "    # calculate frequencies\n",
    "    for text in texts:\n",
    "        for token in text:\n",
    "            frequency[token] += 1\n",
    "\n",
    "    # filter out regions, frequency of 1, and nonenglish words            \n",
    "    texts = [\n",
    "        [token for token in text if all([not token in regions, frequency[token]>1, is_word(token)])]\n",
    "        for text in texts\n",
    "    ]      \n",
    "\n",
    "    return texts\n",
    "\n",
    "def is_word(word):\n",
    "    if wordnet.synsets(word):\n",
    "        return True\n",
    "    else:\n",
    "        return False"
   ]
  },
  {
   "cell_type": "code",
   "execution_count": 381,
   "metadata": {
    "ExecuteTime": {
     "end_time": "2019-08-07T00:05:07.995509Z",
     "start_time": "2019-08-07T00:04:48.343132Z"
    }
   },
   "outputs": [],
   "source": [
    "# generate lists of tokens for each column\n",
    "nose_texts   = createtextlist(whiskyp.nose  )\n",
    "taste_texts  = createtextlist(whiskyp.taste )\n",
    "finish_texts = createtextlist(whiskyp.finish)"
   ]
  },
  {
   "cell_type": "markdown",
   "metadata": {},
   "source": [
    "### Word2Vec\n",
    "Word2Vec trains a model on existing data to determine which words are more connected with each other. This will be used to calculate our Word Mover Distance later on.\n",
    "\n",
    "Since we want as much data as possible for training, we will train on the full dataset."
   ]
  },
  {
   "cell_type": "code",
   "execution_count": 384,
   "metadata": {
    "ExecuteTime": {
     "end_time": "2019-08-07T00:07:21.367249Z",
     "start_time": "2019-08-07T00:07:17.477935Z"
    }
   },
   "outputs": [],
   "source": [
    "from gensim.models import Word2Vec\n",
    "\n",
    "# let's train on the full dataset of nose, taste, and finish. This is more data to train on so should yield better results\n",
    "texts = nose_texts + taste_texts + finish_texts\n",
    "\n",
    "# Train Word2Vec:\n",
    "model = Word2Vec(texts, size=100)\n",
    "\n",
    "# Normalizes the vectors in the word2vec class. This improves performance.\n",
    "model.init_sims(replace=True)  "
   ]
  },
  {
   "cell_type": "code",
   "execution_count": 388,
   "metadata": {
    "ExecuteTime": {
     "end_time": "2019-08-07T00:07:54.962119Z",
     "start_time": "2019-08-07T00:07:54.953447Z"
    }
   },
   "outputs": [
    {
     "data": {
      "text/plain": [
       "[('espresso', 0.7701224684715271),\n",
       " ('milk', 0.7517192363739014),\n",
       " ('dark', 0.705661416053772),\n",
       " ('nib', 0.7011394500732422),\n",
       " ('mexican', 0.6960846185684204),\n",
       " ('leather', 0.6845758557319641),\n",
       " ('cacao', 0.6811543703079224),\n",
       " ('fudge', 0.6733429431915283),\n",
       " ('milky', 0.6686280369758606),\n",
       " ('bean', 0.6618437767028809)]"
      ]
     },
     "execution_count": 388,
     "metadata": {},
     "output_type": "execute_result"
    }
   ],
   "source": [
    "# Test model\n",
    "word = 'coffee'\n",
    "model.wv.most_similar(positive=word)"
   ]
  },
  {
   "cell_type": "markdown",
   "metadata": {},
   "source": [
    "### Reduce Words with TF-IDF"
   ]
  },
  {
   "cell_type": "code",
   "execution_count": 389,
   "metadata": {
    "ExecuteTime": {
     "end_time": "2019-08-07T00:08:27.468534Z",
     "start_time": "2019-08-07T00:08:26.641555Z"
    }
   },
   "outputs": [],
   "source": [
    "from sklearn.feature_extraction.text import TfidfVectorizer\n",
    "import numpy as np\n",
    "\n",
    "#copy dataframe to hold tf-idf values\n",
    "whiskyt = whiskyp\n",
    "\n",
    "def fit_tfidf(df, columnname):\n",
    "    vec = TfidfVectorizer(lowercase = False, max_df=0.7, min_df=0.04)\n",
    "    # change column to string as that's the required input\n",
    "    string = df[columnname].apply(lambda x : ' '.join(x))\n",
    "    # fit\n",
    "    tfidf = vec.fit_transform(string)\n",
    "    features = vec.get_feature_names()\n",
    "    \n",
    "    return tfidf, features\n",
    "\n",
    "nose_tfidf  , nose_features   = fit_tfidf(whiskyp, 'nose')\n",
    "taste_tfidf , taste_features  = fit_tfidf(whiskyp, 'taste')\n",
    "finish_tfidf, finish_features = fit_tfidf(whiskyp, 'finish')"
   ]
  },
  {
   "cell_type": "code",
   "execution_count": 390,
   "metadata": {
    "ExecuteTime": {
     "end_time": "2019-08-07T00:08:37.880912Z",
     "start_time": "2019-08-07T00:08:37.871875Z"
    }
   },
   "outputs": [],
   "source": [
    "# to get top values for each row:\n",
    "def top_tfidf_features(row, features, top_n=None, include_values=False):\n",
    "    # sparse array to dense\n",
    "    row = row.toarray()[0]\n",
    "    if top_n:\n",
    "        topn = np.argsort(row)[::-1][:top_n]\n",
    "    else:\n",
    "        topn = np.argsort(row)[::-1]\n",
    "        \n",
    "    if include_values:\n",
    "        tfidfed_row = [(features[i], row[i]) for i in topn if row[i] > 0]\n",
    "    else:\n",
    "        tfidfed_row = [features[i] for i in topn if row[i] > 0]\n",
    "    return tfidfed_row"
   ]
  },
  {
   "cell_type": "code",
   "execution_count": 391,
   "metadata": {
    "ExecuteTime": {
     "end_time": "2019-08-07T00:08:58.162159Z",
     "start_time": "2019-08-07T00:08:57.377439Z"
    }
   },
   "outputs": [],
   "source": [
    "# add column to use as input for apply\n",
    "whiskyt['index_col'] = range(0, len(whiskyt))\n",
    "topcount = 50\n",
    "\n",
    "whiskyt['nose_tfidf'] = (whiskyt[['index_col']]\n",
    "                         .apply(lambda row: top_tfidf_features(nose_tfidf[row],nose_features, top_n=topcount), axis=1)\n",
    "                        )\n",
    "\n",
    "whiskyt['taste_tfidf'] = (whiskyt[['index_col']]\n",
    "                         .apply(lambda row: top_tfidf_features(taste_tfidf[row],taste_features, top_n=topcount), axis=1)\n",
    "                        )\n",
    "\n",
    "whiskyt['finish_tfidf'] = (whiskyt[['index_col']]\n",
    "                         .apply(lambda row: top_tfidf_features(finish_tfidf[row],finish_features, top_n=topcount), axis=1)\n",
    "                        )"
   ]
  },
  {
   "cell_type": "code",
   "execution_count": 392,
   "metadata": {
    "ExecuteTime": {
     "end_time": "2019-08-07T00:09:02.979115Z",
     "start_time": "2019-08-07T00:09:02.905999Z"
    }
   },
   "outputs": [
    {
     "data": {
      "text/html": [
       "<div>\n",
       "<style scoped>\n",
       "    .dataframe tbody tr th:only-of-type {\n",
       "        vertical-align: middle;\n",
       "    }\n",
       "\n",
       "    .dataframe tbody tr th {\n",
       "        vertical-align: top;\n",
       "    }\n",
       "\n",
       "    .dataframe thead th {\n",
       "        text-align: right;\n",
       "    }\n",
       "</style>\n",
       "<table border=\"1\" class=\"dataframe\">\n",
       "  <thead>\n",
       "    <tr style=\"text-align: right;\">\n",
       "      <th></th>\n",
       "      <th></th>\n",
       "      <th>RedditWhiskyIDs</th>\n",
       "      <th>reviewIDs</th>\n",
       "      <th>rating_mean</th>\n",
       "      <th>rating_std</th>\n",
       "      <th>style</th>\n",
       "      <th>nose</th>\n",
       "      <th>taste</th>\n",
       "      <th>finish</th>\n",
       "      <th>index_col</th>\n",
       "      <th>nose_tfidf</th>\n",
       "      <th>taste_tfidf</th>\n",
       "      <th>finish_tfidf</th>\n",
       "    </tr>\n",
       "    <tr>\n",
       "      <th>Name</th>\n",
       "      <th>itemnumber</th>\n",
       "      <th></th>\n",
       "      <th></th>\n",
       "      <th></th>\n",
       "      <th></th>\n",
       "      <th></th>\n",
       "      <th></th>\n",
       "      <th></th>\n",
       "      <th></th>\n",
       "      <th></th>\n",
       "      <th></th>\n",
       "      <th></th>\n",
       "      <th></th>\n",
       "    </tr>\n",
       "  </thead>\n",
       "  <tbody>\n",
       "    <tr>\n",
       "      <th>12 YO KNAPPOGUE CASTLE IRISH SINGLE MALT WHISKEY</th>\n",
       "      <th>619320</th>\n",
       "      <td>[5277, 5278, 5279]</td>\n",
       "      <td>[20457, 20458, 20459, 20460, 20461, 20462, 204...</td>\n",
       "      <td>75.100000</td>\n",
       "      <td>8.020114</td>\n",
       "      <td>Ireland</td>\n",
       "      <td>[crisp, apple, lot, peach, vanilla, honey, fru...</td>\n",
       "      <td>[fresh, fruity, lot, peach, fresh, peach, sour...</td>\n",
       "      <td>[fruity, malty, malt, quickly, peach, note, ha...</td>\n",
       "      <td>0</td>\n",
       "      <td>[peach, expect, grass, dry, tropical, signatur...</td>\n",
       "      <td>[peach, banana, oakiness, whiskey, like, marzi...</td>\n",
       "      <td>[vanilla, malt, hang, peach, cereal, banana, b...</td>\n",
       "    </tr>\n",
       "    <tr>\n",
       "      <th>1792 SINGLE BARREL KENTUCKY STRAIGHT BOURBON WHISKY</th>\n",
       "      <th>496729</th>\n",
       "      <td>[24, 20, 21, 23]</td>\n",
       "      <td>[60, 61, 62, 63, 65, 66]</td>\n",
       "      <td>72.166667</td>\n",
       "      <td>9.042492</td>\n",
       "      <td>Bourbon</td>\n",
       "      <td>[sweet, corn, oak, cotton, candy, birthday, ca...</td>\n",
       "      <td>[seaweed, corn, mint, brown, sugar, cracker, b...</td>\n",
       "      <td>[edamame, ginger, wheat, werther, corn, medium...</td>\n",
       "      <td>1</td>\n",
       "      <td>[whip, furniture, heat, spice, cream, polish, ...</td>\n",
       "      <td>[punchy, hot, acetone, bold, extra, unripe, sk...</td>\n",
       "      <td>[warm, linger, spice, orchard, sap, tree, spir...</td>\n",
       "    </tr>\n",
       "    <tr>\n",
       "      <th>1792 SMALL BATCH KENTUCKY STRAIGHT BOURBON</th>\n",
       "      <th>208918</th>\n",
       "      <td>[25]</td>\n",
       "      <td>[67, 68, 69, 70, 71, 72, 73, 74, 75, 76]</td>\n",
       "      <td>76.200000</td>\n",
       "      <td>4.263541</td>\n",
       "      <td>Bourbon</td>\n",
       "      <td>[remember, custard, banana, lot, custard, bana...</td>\n",
       "      <td>[similar, recollection, hotter, expect, thinne...</td>\n",
       "      <td>[dry, wood, char, barrel, flavour, yeasty, her...</td>\n",
       "      <td>2</td>\n",
       "      <td>[batch, proof, small, soda, rye, banana, mute,...</td>\n",
       "      <td>[glencairn, rest, little, minute, product, bou...</td>\n",
       "      <td>[tingle, spice, wood, clove, barrel, dry, cinn...</td>\n",
       "    </tr>\n",
       "    <tr>\n",
       "      <th>601 BOURBON</th>\n",
       "      <th>634519</th>\n",
       "      <td>[29]</td>\n",
       "      <td>[97]</td>\n",
       "      <td>58.000000</td>\n",
       "      <td>NaN</td>\n",
       "      <td>Bourbon</td>\n",
       "      <td>[grain, funk, corn, herbal, wet, dirt, smell, ...</td>\n",
       "      <td>[young, sharp, corn, graininess, astringent, c...</td>\n",
       "      <td>[short, medium, warmth, corn, oak, note, herb,...</td>\n",
       "      <td>3</td>\n",
       "      <td>[dirt, funk, wet, herbal, corn, white, bourbon...</td>\n",
       "      <td>[copper, astringent, sharp, corn, young, touch]</td>\n",
       "      <td>[dirt, herb, corn, warmth, note]</td>\n",
       "    </tr>\n",
       "    <tr>\n",
       "      <th>ABERFELDY 12 YEAR OLD</th>\n",
       "      <th>255281</th>\n",
       "      <td>[36, 37]</td>\n",
       "      <td>[113, 114, 115, 116, 117, 118, 119, 120, 121, ...</td>\n",
       "      <td>76.931034</td>\n",
       "      <td>6.181372</td>\n",
       "      <td>Highland</td>\n",
       "      <td>[slight, salty, tone, bit, sweet, surprised, s...</td>\n",
       "      <td>[fairly, sweet, fair, bit, burn, plum, vaguely...</td>\n",
       "      <td>[let, start, arran, sauterne, cask, medium, di...</td>\n",
       "      <td>4</td>\n",
       "      <td>[peat, smoke, hint, floral, grass, sherry, dry...</td>\n",
       "      <td>[peat, chocolate, fairly, citrus, smoke, toffe...</td>\n",
       "      <td>[smooth, burn, little, note, alcohol, smoke, s...</td>\n",
       "    </tr>\n",
       "  </tbody>\n",
       "</table>\n",
       "</div>"
      ],
      "text/plain": [
       "                                                                  RedditWhiskyIDs  \\\n",
       "Name                                               itemnumber                       \n",
       "12 YO KNAPPOGUE CASTLE IRISH SINGLE MALT WHISKEY   619320      [5277, 5278, 5279]   \n",
       "1792 SINGLE BARREL KENTUCKY STRAIGHT BOURBON WH... 496729        [24, 20, 21, 23]   \n",
       "1792 SMALL BATCH KENTUCKY STRAIGHT BOURBON         208918                    [25]   \n",
       "601 BOURBON                                        634519                    [29]   \n",
       "ABERFELDY 12 YEAR OLD                              255281                [36, 37]   \n",
       "\n",
       "                                                                                                       reviewIDs  \\\n",
       "Name                                               itemnumber                                                      \n",
       "12 YO KNAPPOGUE CASTLE IRISH SINGLE MALT WHISKEY   619320      [20457, 20458, 20459, 20460, 20461, 20462, 204...   \n",
       "1792 SINGLE BARREL KENTUCKY STRAIGHT BOURBON WH... 496729                               [60, 61, 62, 63, 65, 66]   \n",
       "1792 SMALL BATCH KENTUCKY STRAIGHT BOURBON         208918               [67, 68, 69, 70, 71, 72, 73, 74, 75, 76]   \n",
       "601 BOURBON                                        634519                                                   [97]   \n",
       "ABERFELDY 12 YEAR OLD                              255281      [113, 114, 115, 116, 117, 118, 119, 120, 121, ...   \n",
       "\n",
       "                                                               rating_mean  \\\n",
       "Name                                               itemnumber                \n",
       "12 YO KNAPPOGUE CASTLE IRISH SINGLE MALT WHISKEY   619320        75.100000   \n",
       "1792 SINGLE BARREL KENTUCKY STRAIGHT BOURBON WH... 496729        72.166667   \n",
       "1792 SMALL BATCH KENTUCKY STRAIGHT BOURBON         208918        76.200000   \n",
       "601 BOURBON                                        634519        58.000000   \n",
       "ABERFELDY 12 YEAR OLD                              255281        76.931034   \n",
       "\n",
       "                                                               rating_std  \\\n",
       "Name                                               itemnumber               \n",
       "12 YO KNAPPOGUE CASTLE IRISH SINGLE MALT WHISKEY   619320        8.020114   \n",
       "1792 SINGLE BARREL KENTUCKY STRAIGHT BOURBON WH... 496729        9.042492   \n",
       "1792 SMALL BATCH KENTUCKY STRAIGHT BOURBON         208918        4.263541   \n",
       "601 BOURBON                                        634519             NaN   \n",
       "ABERFELDY 12 YEAR OLD                              255281        6.181372   \n",
       "\n",
       "                                                                  style  \\\n",
       "Name                                               itemnumber             \n",
       "12 YO KNAPPOGUE CASTLE IRISH SINGLE MALT WHISKEY   619320       Ireland   \n",
       "1792 SINGLE BARREL KENTUCKY STRAIGHT BOURBON WH... 496729       Bourbon   \n",
       "1792 SMALL BATCH KENTUCKY STRAIGHT BOURBON         208918       Bourbon   \n",
       "601 BOURBON                                        634519       Bourbon   \n",
       "ABERFELDY 12 YEAR OLD                              255281      Highland   \n",
       "\n",
       "                                                                                                            nose  \\\n",
       "Name                                               itemnumber                                                      \n",
       "12 YO KNAPPOGUE CASTLE IRISH SINGLE MALT WHISKEY   619320      [crisp, apple, lot, peach, vanilla, honey, fru...   \n",
       "1792 SINGLE BARREL KENTUCKY STRAIGHT BOURBON WH... 496729      [sweet, corn, oak, cotton, candy, birthday, ca...   \n",
       "1792 SMALL BATCH KENTUCKY STRAIGHT BOURBON         208918      [remember, custard, banana, lot, custard, bana...   \n",
       "601 BOURBON                                        634519      [grain, funk, corn, herbal, wet, dirt, smell, ...   \n",
       "ABERFELDY 12 YEAR OLD                              255281      [slight, salty, tone, bit, sweet, surprised, s...   \n",
       "\n",
       "                                                                                                           taste  \\\n",
       "Name                                               itemnumber                                                      \n",
       "12 YO KNAPPOGUE CASTLE IRISH SINGLE MALT WHISKEY   619320      [fresh, fruity, lot, peach, fresh, peach, sour...   \n",
       "1792 SINGLE BARREL KENTUCKY STRAIGHT BOURBON WH... 496729      [seaweed, corn, mint, brown, sugar, cracker, b...   \n",
       "1792 SMALL BATCH KENTUCKY STRAIGHT BOURBON         208918      [similar, recollection, hotter, expect, thinne...   \n",
       "601 BOURBON                                        634519      [young, sharp, corn, graininess, astringent, c...   \n",
       "ABERFELDY 12 YEAR OLD                              255281      [fairly, sweet, fair, bit, burn, plum, vaguely...   \n",
       "\n",
       "                                                                                                          finish  \\\n",
       "Name                                               itemnumber                                                      \n",
       "12 YO KNAPPOGUE CASTLE IRISH SINGLE MALT WHISKEY   619320      [fruity, malty, malt, quickly, peach, note, ha...   \n",
       "1792 SINGLE BARREL KENTUCKY STRAIGHT BOURBON WH... 496729      [edamame, ginger, wheat, werther, corn, medium...   \n",
       "1792 SMALL BATCH KENTUCKY STRAIGHT BOURBON         208918      [dry, wood, char, barrel, flavour, yeasty, her...   \n",
       "601 BOURBON                                        634519      [short, medium, warmth, corn, oak, note, herb,...   \n",
       "ABERFELDY 12 YEAR OLD                              255281      [let, start, arran, sauterne, cask, medium, di...   \n",
       "\n",
       "                                                               index_col  \\\n",
       "Name                                               itemnumber              \n",
       "12 YO KNAPPOGUE CASTLE IRISH SINGLE MALT WHISKEY   619320              0   \n",
       "1792 SINGLE BARREL KENTUCKY STRAIGHT BOURBON WH... 496729              1   \n",
       "1792 SMALL BATCH KENTUCKY STRAIGHT BOURBON         208918              2   \n",
       "601 BOURBON                                        634519              3   \n",
       "ABERFELDY 12 YEAR OLD                              255281              4   \n",
       "\n",
       "                                                                                                      nose_tfidf  \\\n",
       "Name                                               itemnumber                                                      \n",
       "12 YO KNAPPOGUE CASTLE IRISH SINGLE MALT WHISKEY   619320      [peach, expect, grass, dry, tropical, signatur...   \n",
       "1792 SINGLE BARREL KENTUCKY STRAIGHT BOURBON WH... 496729      [whip, furniture, heat, spice, cream, polish, ...   \n",
       "1792 SMALL BATCH KENTUCKY STRAIGHT BOURBON         208918      [batch, proof, small, soda, rye, banana, mute,...   \n",
       "601 BOURBON                                        634519      [dirt, funk, wet, herbal, corn, white, bourbon...   \n",
       "ABERFELDY 12 YEAR OLD                              255281      [peat, smoke, hint, floral, grass, sherry, dry...   \n",
       "\n",
       "                                                                                                     taste_tfidf  \\\n",
       "Name                                               itemnumber                                                      \n",
       "12 YO KNAPPOGUE CASTLE IRISH SINGLE MALT WHISKEY   619320      [peach, banana, oakiness, whiskey, like, marzi...   \n",
       "1792 SINGLE BARREL KENTUCKY STRAIGHT BOURBON WH... 496729      [punchy, hot, acetone, bold, extra, unripe, sk...   \n",
       "1792 SMALL BATCH KENTUCKY STRAIGHT BOURBON         208918      [glencairn, rest, little, minute, product, bou...   \n",
       "601 BOURBON                                        634519        [copper, astringent, sharp, corn, young, touch]   \n",
       "ABERFELDY 12 YEAR OLD                              255281      [peat, chocolate, fairly, citrus, smoke, toffe...   \n",
       "\n",
       "                                                                                                    finish_tfidf  \n",
       "Name                                               itemnumber                                                     \n",
       "12 YO KNAPPOGUE CASTLE IRISH SINGLE MALT WHISKEY   619320      [vanilla, malt, hang, peach, cereal, banana, b...  \n",
       "1792 SINGLE BARREL KENTUCKY STRAIGHT BOURBON WH... 496729      [warm, linger, spice, orchard, sap, tree, spir...  \n",
       "1792 SMALL BATCH KENTUCKY STRAIGHT BOURBON         208918      [tingle, spice, wood, clove, barrel, dry, cinn...  \n",
       "601 BOURBON                                        634519                       [dirt, herb, corn, warmth, note]  \n",
       "ABERFELDY 12 YEAR OLD                              255281      [smooth, burn, little, note, alcohol, smoke, s...  "
      ]
     },
     "execution_count": 392,
     "metadata": {},
     "output_type": "execute_result"
    }
   ],
   "source": [
    "whiskyt.head()"
   ]
  },
  {
   "cell_type": "markdown",
   "metadata": {},
   "source": [
    "### Word Mover Distance Using TFIDF"
   ]
  },
  {
   "cell_type": "code",
   "execution_count": 393,
   "metadata": {
    "ExecuteTime": {
     "end_time": "2019-08-07T00:10:57.311752Z",
     "start_time": "2019-08-07T00:10:55.665414Z"
    }
   },
   "outputs": [],
   "source": [
    "# We need to regenerate texts based on our TF-IDF analysis here\n",
    "nose_tfidf_texts   = createtextlist(whiskyp.nose_tfidf)\n",
    "taste_tfidf_texts  = createtextlist(whiskyp.taste_tfidf)\n",
    "finish_tfidf_texts = createtextlist(whiskyp.finish_tfidf)"
   ]
  },
  {
   "cell_type": "code",
   "execution_count": 410,
   "metadata": {
    "ExecuteTime": {
     "end_time": "2019-08-24T21:35:39.859267Z",
     "start_time": "2019-08-24T21:35:05.533801Z"
    },
    "scrolled": true
   },
   "outputs": [
    {
     "name": "stdout",
     "output_type": "stream",
     "text": [
      "Query:\n",
      "WHYTE & MACKAY SPECIAL BLEND SCOTCH WHISKY\n",
      "1.0\n",
      "WHYTE & MACKAY SPECIAL BLEND SCOTCH WHISKY\n",
      "0.9298136610313349\n",
      "GRANT'S FAMILY RESERVE SCOTCH WHISKY\n",
      "0.9272752442268795\n",
      "BELL'S ORIGINAL SCOTCH WHISKY\n",
      "0.89695661688482\n",
      "TULLAMORE DEW IRISH WHISKEY\n",
      "0.8435193254242457\n",
      "WILD TURKEY 81 PROOF KENTUCKY STRAIGHT BOURBON\n",
      "0.8318970191997332\n",
      "JIM BEAM DEVIL'S CUT\n",
      "0.7866503268710434\n",
      "THE FAMOUS GROUSE SCOTCH WHISKY\n",
      "0.7700688197163718\n",
      "BUSHMILLS IRISH WHISKEY\n",
      "0.757945780192364\n",
      "JEFFERSON'S RESERVE BOURBON\n",
      "0.7535194479138625\n",
      "JAMESON IRISH WHISKEY\n"
     ]
    }
   ],
   "source": [
    "num =  404 # Wild Turkey 101\n",
    "\n",
    "# test a query\n",
    "query = nose_tfidf_texts[num]\n",
    "instance = WmdSimilarity(nose_tfidf_texts, model, num_best=10)\n",
    "sims = instance[query]\n",
    "\n",
    "# Print the query and the retrieved documents, together with their similarities.\n",
    "print ('Query:')\n",
    "print(whiskyp.reset_index().Name.iloc[num])\n",
    "\n",
    "#print \n",
    "for i in range(num_best):\n",
    "    print(sims[i][1])\n",
    "    #print (nose_texts[sims[i][0]])\n",
    "    print(whiskyp.reset_index().Name.iloc[sims[i][0]])"
   ]
  },
  {
   "cell_type": "code",
   "execution_count": 395,
   "metadata": {
    "ExecuteTime": {
     "end_time": "2019-08-07T00:12:37.639941Z",
     "start_time": "2019-08-07T00:12:37.615226Z"
    }
   },
   "outputs": [],
   "source": [
    "# get similarities for one whisky and one column\n",
    "def getsimilarities(texts, row_index, model):\n",
    "    query = texts[row_index] # Get description from text list\n",
    "    instance = WmdSimilarity(texts, model) # Query object\n",
    "    sims = instance[query]\n",
    "    return sims\n",
    "\n",
    "# get similarities for one whisky, averaged across all columns\n",
    "def getsimilarityresults(olddf, num):\n",
    "    # test a query\n",
    "    nose_sims   = getsimilarities(nose_tfidf_texts  , num, model)\n",
    "    taste_sims  = getsimilarities(taste_tfidf_texts , num, model)\n",
    "    finish_sims = getsimilarities(finish_tfidf_texts, num, model)\n",
    "\n",
    "    # combine into neat dataframe\n",
    "    df = pd.DataFrame({'nose_sim': nose_sims, 'taste_sim': taste_sims, 'finish_sim':finish_sims})\n",
    "\n",
    "    # add needed columns\n",
    "    df['sim'] = df.mean(axis=1)\n",
    "    df['itemnumber'] = whiskyp.reset_index().iloc[num].itemnumber\n",
    "    df = pd.concat([df, whiskyp.reset_index().rename({'itemnumber':'itemnumber2'},axis=1)['itemnumber2']], axis=1)\n",
    "\n",
    "    return df\n",
    "\n",
    "# Function to multiprocess an entire dataframe\n",
    "def getsimilarityresults_dataframe(df):\n",
    "    \n",
    "    # create dataframe to hold results\n",
    "    global results\n",
    "    results = pd.DataFrame(columns=['nose_sim','taste_sim','finish_sim','itemnumber','itemnumber2'])\n",
    "    \n",
    "    # call function for each whisky with multiprocessing\n",
    "    pool = mp.Pool(mp.cpu_count())\n",
    "    \n",
    "    for num in range(df.shape[0]):\n",
    "        pool.apply_async(getsimilarityresults, args=(df, num), callback=collect_result)\n",
    "    pool.close()\n",
    "    pool.join()\n",
    "    \n",
    "    # return results\n",
    "    return results\n",
    "    \n",
    "# Function to collect results from multiprocess\n",
    "def collect_result(result):\n",
    "    global results\n",
    "    results = results.append(result, ignore_index = True, sort=False)"
   ]
  },
  {
   "cell_type": "code",
   "execution_count": null,
   "metadata": {},
   "outputs": [],
   "source": []
  },
  {
   "cell_type": "code",
   "execution_count": null,
   "metadata": {
    "ExecuteTime": {
     "start_time": "2019-08-07T00:16:04.828Z"
    },
    "scrolled": true
   },
   "outputs": [],
   "source": [
    "similarities = getsimilarityresults_dataframe(whiskyp)\n",
    "similarities.to_parquet('data/similarities2.parquet')"
   ]
  },
  {
   "cell_type": "markdown",
   "metadata": {},
   "source": [
    "### Save to File"
   ]
  },
  {
   "cell_type": "code",
   "execution_count": 333,
   "metadata": {
    "ExecuteTime": {
     "end_time": "2019-08-06T02:19:34.406232Z",
     "start_time": "2019-08-06T02:19:34.365780Z"
    }
   },
   "outputs": [],
   "source": [
    "(whiskyt.drop({'nose','taste','finish'},axis=1)\n",
    "       .rename({'nose_tfidf':'nose','taste_tfidf':'taste','finish_tfidf':'finish'},axis=1)\n",
    "       .to_parquet('data/whisky_tfidf.parquet')\n",
    ")"
   ]
  }
 ],
 "metadata": {
  "kernelspec": {
   "display_name": "Python 3",
   "language": "python",
   "name": "python3"
  },
  "language_info": {
   "codemirror_mode": {
    "name": "ipython",
    "version": 3
   },
   "file_extension": ".py",
   "mimetype": "text/x-python",
   "name": "python",
   "nbconvert_exporter": "python",
   "pygments_lexer": "ipython3",
   "version": "3.6.8"
  },
  "toc": {
   "base_numbering": 1,
   "nav_menu": {},
   "number_sections": true,
   "sideBar": true,
   "skip_h1_title": true,
   "title_cell": "Table of Contents",
   "title_sidebar": "Contents",
   "toc_cell": false,
   "toc_position": {
    "height": "calc(100% - 180px)",
    "left": "10px",
    "top": "150px",
    "width": "298px"
   },
   "toc_section_display": true,
   "toc_window_display": true
  }
 },
 "nbformat": 4,
 "nbformat_minor": 2
}
